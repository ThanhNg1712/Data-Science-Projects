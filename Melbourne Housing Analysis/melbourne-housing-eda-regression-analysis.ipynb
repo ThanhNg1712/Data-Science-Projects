{
 "cells": [
  {
   "cell_type": "code",
   "execution_count": 1,
   "id": "cb86bd2c",
   "metadata": {
    "_cell_guid": "b1076dfc-b9ad-4769-8c92-a6c4dae69d19",
    "_uuid": "8f2839f25d086af736a60e9eeb907d3b93b6e0e5",
    "execution": {
     "iopub.execute_input": "2021-09-02T08:57:05.246318Z",
     "iopub.status.busy": "2021-09-02T08:57:05.245616Z",
     "iopub.status.idle": "2021-09-02T08:57:05.262634Z",
     "shell.execute_reply": "2021-09-02T08:57:05.261910Z",
     "shell.execute_reply.started": "2021-09-02T08:52:47.753982Z"
    },
    "papermill": {
     "duration": 0.077058,
     "end_time": "2021-09-02T08:57:05.262804",
     "exception": false,
     "start_time": "2021-09-02T08:57:05.185746",
     "status": "completed"
    },
    "tags": []
   },
   "outputs": [
    {
     "name": "stdout",
     "output_type": "stream",
     "text": [
      "/kaggle/input/melbourne-housing-market/Melbourne_housing_FULL.csv\n",
      "/kaggle/input/melbourne-housing-market/MELBOURNE_HOUSE_PRICES_LESS.csv\n"
     ]
    }
   ],
   "source": [
    "# This Python 3 environment comes with many helpful analytics libraries installed\n",
    "# It is defined by the kaggle/python Docker image: https://github.com/kaggle/docker-python\n",
    "# For example, here's several helpful packages to load\n",
    "\n",
    "import numpy as np # linear algebra\n",
    "import pandas as pd # data processing, CSV file I/O (e.g. pd.read_csv)\n",
    "\n",
    "# Input data files are available in the read-only \"../input/\" directory\n",
    "# For example, running this (by clicking run or pressing Shift+Enter) will list all files under the input directory\n",
    "\n",
    "import os\n",
    "for dirname, _, filenames in os.walk('/kaggle/input'):\n",
    "    for filename in filenames:\n",
    "        print(os.path.join(dirname, filename))\n",
    "\n",
    "# You can write up to 20GB to the current directory (/kaggle/working/) that gets preserved as output when you create a version using \"Save & Run All\" \n",
    "# You can also write temporary files to /kaggle/temp/, but they won't be saved outside of the current session"
   ]
  },
  {
   "cell_type": "code",
   "execution_count": 2,
   "id": "fa9b6428",
   "metadata": {
    "execution": {
     "iopub.execute_input": "2021-09-02T08:57:05.371245Z",
     "iopub.status.busy": "2021-09-02T08:57:05.370448Z",
     "iopub.status.idle": "2021-09-02T08:57:06.824160Z",
     "shell.execute_reply": "2021-09-02T08:57:06.824676Z",
     "shell.execute_reply.started": "2021-09-02T08:52:47.766754Z"
    },
    "papermill": {
     "duration": 1.512807,
     "end_time": "2021-09-02T08:57:06.824844",
     "exception": false,
     "start_time": "2021-09-02T08:57:05.312037",
     "status": "completed"
    },
    "tags": []
   },
   "outputs": [
    {
     "name": "stdout",
     "output_type": "stream",
     "text": [
      "(34857, 21)\n"
     ]
    },
    {
     "data": {
      "text/html": [
       "<div>\n",
       "<style scoped>\n",
       "    .dataframe tbody tr th:only-of-type {\n",
       "        vertical-align: middle;\n",
       "    }\n",
       "\n",
       "    .dataframe tbody tr th {\n",
       "        vertical-align: top;\n",
       "    }\n",
       "\n",
       "    .dataframe thead th {\n",
       "        text-align: right;\n",
       "    }\n",
       "</style>\n",
       "<table border=\"1\" class=\"dataframe\">\n",
       "  <thead>\n",
       "    <tr style=\"text-align: right;\">\n",
       "      <th></th>\n",
       "      <th>Suburb</th>\n",
       "      <th>Address</th>\n",
       "      <th>Rooms</th>\n",
       "      <th>Type</th>\n",
       "      <th>Price</th>\n",
       "      <th>Method</th>\n",
       "      <th>SellerG</th>\n",
       "      <th>Date</th>\n",
       "      <th>Distance</th>\n",
       "      <th>Postcode</th>\n",
       "      <th>...</th>\n",
       "      <th>Bathroom</th>\n",
       "      <th>Car</th>\n",
       "      <th>Landsize</th>\n",
       "      <th>BuildingArea</th>\n",
       "      <th>YearBuilt</th>\n",
       "      <th>CouncilArea</th>\n",
       "      <th>Lattitude</th>\n",
       "      <th>Longtitude</th>\n",
       "      <th>Regionname</th>\n",
       "      <th>Propertycount</th>\n",
       "    </tr>\n",
       "  </thead>\n",
       "  <tbody>\n",
       "    <tr>\n",
       "      <th>0</th>\n",
       "      <td>Abbotsford</td>\n",
       "      <td>68 Studley St</td>\n",
       "      <td>2</td>\n",
       "      <td>h</td>\n",
       "      <td>NaN</td>\n",
       "      <td>SS</td>\n",
       "      <td>Jellis</td>\n",
       "      <td>3/09/2016</td>\n",
       "      <td>2.5</td>\n",
       "      <td>3067.0</td>\n",
       "      <td>...</td>\n",
       "      <td>1.0</td>\n",
       "      <td>1.0</td>\n",
       "      <td>126.0</td>\n",
       "      <td>NaN</td>\n",
       "      <td>NaN</td>\n",
       "      <td>Yarra City Council</td>\n",
       "      <td>-37.8014</td>\n",
       "      <td>144.9958</td>\n",
       "      <td>Northern Metropolitan</td>\n",
       "      <td>4019.0</td>\n",
       "    </tr>\n",
       "    <tr>\n",
       "      <th>1</th>\n",
       "      <td>Abbotsford</td>\n",
       "      <td>85 Turner St</td>\n",
       "      <td>2</td>\n",
       "      <td>h</td>\n",
       "      <td>1480000.0</td>\n",
       "      <td>S</td>\n",
       "      <td>Biggin</td>\n",
       "      <td>3/12/2016</td>\n",
       "      <td>2.5</td>\n",
       "      <td>3067.0</td>\n",
       "      <td>...</td>\n",
       "      <td>1.0</td>\n",
       "      <td>1.0</td>\n",
       "      <td>202.0</td>\n",
       "      <td>NaN</td>\n",
       "      <td>NaN</td>\n",
       "      <td>Yarra City Council</td>\n",
       "      <td>-37.7996</td>\n",
       "      <td>144.9984</td>\n",
       "      <td>Northern Metropolitan</td>\n",
       "      <td>4019.0</td>\n",
       "    </tr>\n",
       "    <tr>\n",
       "      <th>2</th>\n",
       "      <td>Abbotsford</td>\n",
       "      <td>25 Bloomburg St</td>\n",
       "      <td>2</td>\n",
       "      <td>h</td>\n",
       "      <td>1035000.0</td>\n",
       "      <td>S</td>\n",
       "      <td>Biggin</td>\n",
       "      <td>4/02/2016</td>\n",
       "      <td>2.5</td>\n",
       "      <td>3067.0</td>\n",
       "      <td>...</td>\n",
       "      <td>1.0</td>\n",
       "      <td>0.0</td>\n",
       "      <td>156.0</td>\n",
       "      <td>79.0</td>\n",
       "      <td>1900.0</td>\n",
       "      <td>Yarra City Council</td>\n",
       "      <td>-37.8079</td>\n",
       "      <td>144.9934</td>\n",
       "      <td>Northern Metropolitan</td>\n",
       "      <td>4019.0</td>\n",
       "    </tr>\n",
       "    <tr>\n",
       "      <th>3</th>\n",
       "      <td>Abbotsford</td>\n",
       "      <td>18/659 Victoria St</td>\n",
       "      <td>3</td>\n",
       "      <td>u</td>\n",
       "      <td>NaN</td>\n",
       "      <td>VB</td>\n",
       "      <td>Rounds</td>\n",
       "      <td>4/02/2016</td>\n",
       "      <td>2.5</td>\n",
       "      <td>3067.0</td>\n",
       "      <td>...</td>\n",
       "      <td>2.0</td>\n",
       "      <td>1.0</td>\n",
       "      <td>0.0</td>\n",
       "      <td>NaN</td>\n",
       "      <td>NaN</td>\n",
       "      <td>Yarra City Council</td>\n",
       "      <td>-37.8114</td>\n",
       "      <td>145.0116</td>\n",
       "      <td>Northern Metropolitan</td>\n",
       "      <td>4019.0</td>\n",
       "    </tr>\n",
       "    <tr>\n",
       "      <th>4</th>\n",
       "      <td>Abbotsford</td>\n",
       "      <td>5 Charles St</td>\n",
       "      <td>3</td>\n",
       "      <td>h</td>\n",
       "      <td>1465000.0</td>\n",
       "      <td>SP</td>\n",
       "      <td>Biggin</td>\n",
       "      <td>4/03/2017</td>\n",
       "      <td>2.5</td>\n",
       "      <td>3067.0</td>\n",
       "      <td>...</td>\n",
       "      <td>2.0</td>\n",
       "      <td>0.0</td>\n",
       "      <td>134.0</td>\n",
       "      <td>150.0</td>\n",
       "      <td>1900.0</td>\n",
       "      <td>Yarra City Council</td>\n",
       "      <td>-37.8093</td>\n",
       "      <td>144.9944</td>\n",
       "      <td>Northern Metropolitan</td>\n",
       "      <td>4019.0</td>\n",
       "    </tr>\n",
       "  </tbody>\n",
       "</table>\n",
       "<p>5 rows × 21 columns</p>\n",
       "</div>"
      ],
      "text/plain": [
       "       Suburb             Address  Rooms Type      Price Method SellerG  \\\n",
       "0  Abbotsford       68 Studley St      2    h        NaN     SS  Jellis   \n",
       "1  Abbotsford        85 Turner St      2    h  1480000.0      S  Biggin   \n",
       "2  Abbotsford     25 Bloomburg St      2    h  1035000.0      S  Biggin   \n",
       "3  Abbotsford  18/659 Victoria St      3    u        NaN     VB  Rounds   \n",
       "4  Abbotsford        5 Charles St      3    h  1465000.0     SP  Biggin   \n",
       "\n",
       "        Date  Distance  Postcode  ...  Bathroom  Car  Landsize  BuildingArea  \\\n",
       "0  3/09/2016       2.5    3067.0  ...       1.0  1.0     126.0           NaN   \n",
       "1  3/12/2016       2.5    3067.0  ...       1.0  1.0     202.0           NaN   \n",
       "2  4/02/2016       2.5    3067.0  ...       1.0  0.0     156.0          79.0   \n",
       "3  4/02/2016       2.5    3067.0  ...       2.0  1.0       0.0           NaN   \n",
       "4  4/03/2017       2.5    3067.0  ...       2.0  0.0     134.0         150.0   \n",
       "\n",
       "   YearBuilt         CouncilArea Lattitude  Longtitude             Regionname  \\\n",
       "0        NaN  Yarra City Council  -37.8014    144.9958  Northern Metropolitan   \n",
       "1        NaN  Yarra City Council  -37.7996    144.9984  Northern Metropolitan   \n",
       "2     1900.0  Yarra City Council  -37.8079    144.9934  Northern Metropolitan   \n",
       "3        NaN  Yarra City Council  -37.8114    145.0116  Northern Metropolitan   \n",
       "4     1900.0  Yarra City Council  -37.8093    144.9944  Northern Metropolitan   \n",
       "\n",
       "  Propertycount  \n",
       "0        4019.0  \n",
       "1        4019.0  \n",
       "2        4019.0  \n",
       "3        4019.0  \n",
       "4        4019.0  \n",
       "\n",
       "[5 rows x 21 columns]"
      ]
     },
     "execution_count": 2,
     "metadata": {},
     "output_type": "execute_result"
    }
   ],
   "source": [
    "#import libraries\n",
    "\n",
    "import numpy as np\n",
    "import pandas as pd\n",
    "import seaborn as sns\n",
    "import sklearn\n",
    "import matplotlib.pyplot as plt\n",
    "%matplotlib inline\n",
    "\n",
    "#the dataset\n",
    "data = pd.read_csv('/kaggle/input/melbourne-housing-market/Melbourne_housing_FULL.csv')\n",
    "print(data.shape)\n",
    "data.head()"
   ]
  },
  {
   "cell_type": "markdown",
   "id": "bc6cd0f9",
   "metadata": {
    "papermill": {
     "duration": 0.0471,
     "end_time": "2021-09-02T08:57:06.919983",
     "exception": false,
     "start_time": "2021-09-02T08:57:06.872883",
     "status": "completed"
    },
    "tags": []
   },
   "source": [
    "## Features of the dataset"
   ]
  },
  {
   "cell_type": "code",
   "execution_count": 3,
   "id": "fdbd7479",
   "metadata": {
    "execution": {
     "iopub.execute_input": "2021-09-02T08:57:07.049263Z",
     "iopub.status.busy": "2021-09-02T08:57:07.021312Z",
     "iopub.status.idle": "2021-09-02T08:57:07.071146Z",
     "shell.execute_reply": "2021-09-02T08:57:07.070611Z",
     "shell.execute_reply.started": "2021-09-02T08:52:47.921426Z"
    },
    "papermill": {
     "duration": 0.103052,
     "end_time": "2021-09-02T08:57:07.071409",
     "exception": false,
     "start_time": "2021-09-02T08:57:06.968357",
     "status": "completed"
    },
    "tags": []
   },
   "outputs": [
    {
     "name": "stdout",
     "output_type": "stream",
     "text": [
      "<class 'pandas.core.frame.DataFrame'>\n",
      "RangeIndex: 34857 entries, 0 to 34856\n",
      "Data columns (total 21 columns):\n",
      " #   Column         Non-Null Count  Dtype  \n",
      "---  ------         --------------  -----  \n",
      " 0   Suburb         34857 non-null  object \n",
      " 1   Address        34857 non-null  object \n",
      " 2   Rooms          34857 non-null  int64  \n",
      " 3   Type           34857 non-null  object \n",
      " 4   Price          27247 non-null  float64\n",
      " 5   Method         34857 non-null  object \n",
      " 6   SellerG        34857 non-null  object \n",
      " 7   Date           34857 non-null  object \n",
      " 8   Distance       34856 non-null  float64\n",
      " 9   Postcode       34856 non-null  float64\n",
      " 10  Bedroom2       26640 non-null  float64\n",
      " 11  Bathroom       26631 non-null  float64\n",
      " 12  Car            26129 non-null  float64\n",
      " 13  Landsize       23047 non-null  float64\n",
      " 14  BuildingArea   13742 non-null  float64\n",
      " 15  YearBuilt      15551 non-null  float64\n",
      " 16  CouncilArea    34854 non-null  object \n",
      " 17  Lattitude      26881 non-null  float64\n",
      " 18  Longtitude     26881 non-null  float64\n",
      " 19  Regionname     34854 non-null  object \n",
      " 20  Propertycount  34854 non-null  float64\n",
      "dtypes: float64(12), int64(1), object(8)\n",
      "memory usage: 5.6+ MB\n"
     ]
    }
   ],
   "source": [
    "data.info()"
   ]
  },
  {
   "cell_type": "code",
   "execution_count": 4,
   "id": "cbfade78",
   "metadata": {
    "execution": {
     "iopub.execute_input": "2021-09-02T08:57:07.179639Z",
     "iopub.status.busy": "2021-09-02T08:57:07.178861Z",
     "iopub.status.idle": "2021-09-02T08:57:07.190540Z",
     "shell.execute_reply": "2021-09-02T08:57:07.191117Z",
     "shell.execute_reply.started": "2021-09-02T08:52:47.949525Z"
    },
    "papermill": {
     "duration": 0.068378,
     "end_time": "2021-09-02T08:57:07.191410",
     "exception": false,
     "start_time": "2021-09-02T08:57:07.123032",
     "status": "completed"
    },
    "tags": []
   },
   "outputs": [
    {
     "name": "stdout",
     "output_type": "stream",
     "text": [
      "Categorical Features \n",
      "Index(['Suburb', 'Address', 'Type', 'Method', 'SellerG', 'Date', 'CouncilArea',\n",
      "       'Regionname'],\n",
      "      dtype='object')\n",
      "Numeric Features\n"
     ]
    },
    {
     "data": {
      "text/plain": [
       "Index(['Rooms', 'Price', 'Distance', 'Postcode', 'Bedroom2', 'Bathroom', 'Car',\n",
       "       'Landsize', 'BuildingArea', 'YearBuilt', 'Lattitude', 'Longtitude',\n",
       "       'Propertycount'],\n",
       "      dtype='object')"
      ]
     },
     "execution_count": 4,
     "metadata": {},
     "output_type": "execute_result"
    }
   ],
   "source": [
    "print('Categorical Features ')\n",
    "print(data.select_dtypes(['object']).columns)\n",
    "print('Numeric Features')\n",
    "data.select_dtypes(['int64','float64']).columns"
   ]
  },
  {
   "cell_type": "markdown",
   "id": "b32b0153",
   "metadata": {
    "papermill": {
     "duration": 0.052899,
     "end_time": "2021-09-02T08:57:07.299258",
     "exception": false,
     "start_time": "2021-09-02T08:57:07.246359",
     "status": "completed"
    },
    "tags": []
   },
   "source": [
    "**Categorical Feature** : Suburb. Address, Type, Method, SellerG, Date, CouncilArea, Region Name\n",
    "\n",
    "\n",
    "**Numeric Features** : Rooms, Price, Distance, Postcode, Bedroom2, Bathroom, Car, Land Size, Building Area, YearBuild, Lattitude, Longtitude, Property count"
   ]
  },
  {
   "cell_type": "markdown",
   "id": "bbf382fd",
   "metadata": {
    "papermill": {
     "duration": 0.051557,
     "end_time": "2021-09-02T08:57:07.402806",
     "exception": false,
     "start_time": "2021-09-02T08:57:07.351249",
     "status": "completed"
    },
    "tags": []
   },
   "source": [
    "## Cleaning Data"
   ]
  },
  {
   "cell_type": "code",
   "execution_count": 5,
   "id": "f633b37f",
   "metadata": {
    "execution": {
     "iopub.execute_input": "2021-09-02T08:57:07.508517Z",
     "iopub.status.busy": "2021-09-02T08:57:07.507770Z",
     "iopub.status.idle": "2021-09-02T08:57:07.543967Z",
     "shell.execute_reply": "2021-09-02T08:57:07.544465Z",
     "shell.execute_reply.started": "2021-09-02T08:52:47.965532Z"
    },
    "papermill": {
     "duration": 0.091599,
     "end_time": "2021-09-02T08:57:07.544688",
     "exception": false,
     "start_time": "2021-09-02T08:57:07.453089",
     "status": "completed"
    },
    "tags": []
   },
   "outputs": [
    {
     "data": {
      "text/plain": [
       "Suburb               0\n",
       "Address              0\n",
       "Rooms                0\n",
       "Type                 0\n",
       "Price             7610\n",
       "Method               0\n",
       "SellerG              0\n",
       "Date                 0\n",
       "Distance             1\n",
       "Postcode             1\n",
       "Bedroom2          8217\n",
       "Bathroom          8226\n",
       "Car               8728\n",
       "Landsize         11810\n",
       "BuildingArea     21115\n",
       "YearBuilt        19306\n",
       "CouncilArea          3\n",
       "Lattitude         7976\n",
       "Longtitude        7976\n",
       "Regionname           3\n",
       "Propertycount        3\n",
       "dtype: int64"
      ]
     },
     "execution_count": 5,
     "metadata": {},
     "output_type": "execute_result"
    }
   ],
   "source": [
    "data.isnull().sum()"
   ]
  },
  {
   "cell_type": "markdown",
   "id": "0bbb3bad",
   "metadata": {
    "papermill": {
     "duration": 0.05471,
     "end_time": "2021-09-02T08:57:07.653696",
     "exception": false,
     "start_time": "2021-09-02T08:57:07.598986",
     "status": "completed"
    },
    "tags": []
   },
   "source": [
    "## Step for cleaning data\n",
    "**+ Drop the Nan values of Distance, Postcode, Council Area, Region Name, Property Count because there are just a few missing value**\n",
    "**+ Drop the NaN value from year build because can not replace with any value**\n",
    "\n",
    "**+ Replace int64, and float64 variable with mean value**\n",
    "\n",
    "**+ Replace object variables with the values that has highest count values**\n",
    "\n",
    "**+ Drop the column Lattidu and Longtittude because if we replace with any values, it will conflict with Building Area or LandSize in my understanding**\n",
    "\n",
    "**+ Drop the column Seller G, Property Count and Address since theese variables has no  value for my further analyis**"
   ]
  },
  {
   "cell_type": "code",
   "execution_count": 6,
   "id": "81fdfcdd",
   "metadata": {
    "execution": {
     "iopub.execute_input": "2021-09-02T08:57:07.769075Z",
     "iopub.status.busy": "2021-09-02T08:57:07.768402Z",
     "iopub.status.idle": "2021-09-02T08:57:07.804444Z",
     "shell.execute_reply": "2021-09-02T08:57:07.804996Z",
     "shell.execute_reply.started": "2021-09-02T08:52:47.990107Z"
    },
    "papermill": {
     "duration": 0.096987,
     "end_time": "2021-09-02T08:57:07.805184",
     "exception": false,
     "start_time": "2021-09-02T08:57:07.708197",
     "status": "completed"
    },
    "tags": []
   },
   "outputs": [],
   "source": [
    "#drop columns\n",
    "data.dropna(subset = ['Distance','Postcode','CouncilArea','Regionname','YearBuilt','Lattitude', 'Longtitude'], inplace = True)\n",
    "data = data.drop(['Propertycount','SellerG','Address'], axis = 1)"
   ]
  },
  {
   "cell_type": "code",
   "execution_count": 7,
   "id": "09eed55b",
   "metadata": {
    "execution": {
     "iopub.execute_input": "2021-09-02T08:57:07.913301Z",
     "iopub.status.busy": "2021-09-02T08:57:07.911938Z",
     "iopub.status.idle": "2021-09-02T08:57:07.921594Z",
     "shell.execute_reply": "2021-09-02T08:57:07.921007Z",
     "shell.execute_reply.started": "2021-09-02T08:52:48.011552Z"
    },
    "papermill": {
     "duration": 0.066815,
     "end_time": "2021-09-02T08:57:07.921744",
     "exception": false,
     "start_time": "2021-09-02T08:57:07.854929",
     "status": "completed"
    },
    "tags": []
   },
   "outputs": [],
   "source": [
    "#numerical variables\n",
    "data['Price'].fillna((data['Price'].mean()), inplace = True)\n",
    "data['Landsize'].fillna((data['Landsize'].mean()), inplace = True)\n",
    "data['BuildingArea'].fillna((data['BuildingArea'].mean()), inplace = True)\n",
    "#Catigorical variables\n",
    "data['Bedroom2'].fillna((data['Bedroom2'].value_counts().index[0]), inplace = True)\n",
    "data['Bathroom'].fillna((data['Bedroom2'].value_counts().index[0]), inplace = True)\n",
    "data['Car'].fillna((data['Car'].value_counts().index[0]), inplace = True)"
   ]
  },
  {
   "cell_type": "markdown",
   "id": "939fbfc6",
   "metadata": {
    "papermill": {
     "duration": 0.051577,
     "end_time": "2021-09-02T08:57:08.026145",
     "exception": false,
     "start_time": "2021-09-02T08:57:07.974568",
     "status": "completed"
    },
    "tags": []
   },
   "source": []
  },
  {
   "cell_type": "code",
   "execution_count": 8,
   "id": "2370c3c7",
   "metadata": {
    "execution": {
     "iopub.execute_input": "2021-09-02T08:57:08.145830Z",
     "iopub.status.busy": "2021-09-02T08:57:08.144986Z",
     "iopub.status.idle": "2021-09-02T08:57:08.154278Z",
     "shell.execute_reply": "2021-09-02T08:57:08.153595Z",
     "shell.execute_reply.started": "2021-09-02T08:52:48.030245Z"
    },
    "papermill": {
     "duration": 0.075064,
     "end_time": "2021-09-02T08:57:08.154418",
     "exception": false,
     "start_time": "2021-09-02T08:57:08.079354",
     "status": "completed"
    },
    "tags": []
   },
   "outputs": [
    {
     "name": "stdout",
     "output_type": "stream",
     "text": [
      "(15542, 18)\n"
     ]
    },
    {
     "data": {
      "text/plain": [
       "Suburb          0\n",
       "Rooms           0\n",
       "Type            0\n",
       "Price           0\n",
       "Method          0\n",
       "Date            0\n",
       "Distance        0\n",
       "Postcode        0\n",
       "Bedroom2        0\n",
       "Bathroom        0\n",
       "Car             0\n",
       "Landsize        0\n",
       "BuildingArea    0\n",
       "YearBuilt       0\n",
       "CouncilArea     0\n",
       "Lattitude       0\n",
       "Longtitude      0\n",
       "Regionname      0\n",
       "dtype: int64"
      ]
     },
     "execution_count": 8,
     "metadata": {},
     "output_type": "execute_result"
    }
   ],
   "source": [
    "print(data.shape)\n",
    "data.isnull().sum()"
   ]
  },
  {
   "cell_type": "markdown",
   "id": "aafdac45",
   "metadata": {
    "papermill": {
     "duration": 0.052163,
     "end_time": "2021-09-02T08:57:08.258078",
     "exception": false,
     "start_time": "2021-09-02T08:57:08.205915",
     "status": "completed"
    },
    "tags": []
   },
   "source": [
    "## Featuring data"
   ]
  },
  {
   "cell_type": "code",
   "execution_count": 9,
   "id": "d553d218",
   "metadata": {
    "execution": {
     "iopub.execute_input": "2021-09-02T08:57:08.371081Z",
     "iopub.status.busy": "2021-09-02T08:57:08.370431Z",
     "iopub.status.idle": "2021-09-02T08:57:08.376515Z",
     "shell.execute_reply": "2021-09-02T08:57:08.376967Z",
     "shell.execute_reply.started": "2021-09-02T08:52:48.050175Z"
    },
    "papermill": {
     "duration": 0.068106,
     "end_time": "2021-09-02T08:57:08.377156",
     "exception": false,
     "start_time": "2021-09-02T08:57:08.309050",
     "status": "completed"
    },
    "tags": []
   },
   "outputs": [
    {
     "name": "stdout",
     "output_type": "stream",
     "text": [
      "Categorical Features \n",
      "Index(['Suburb', 'Type', 'Method', 'Date', 'CouncilArea', 'Regionname'], dtype='object')\n",
      "Numeric Features\n"
     ]
    },
    {
     "data": {
      "text/plain": [
       "Index(['Rooms', 'Price', 'Distance', 'Postcode', 'Bedroom2', 'Bathroom', 'Car',\n",
       "       'Landsize', 'BuildingArea', 'YearBuilt', 'Lattitude', 'Longtitude'],\n",
       "      dtype='object')"
      ]
     },
     "execution_count": 9,
     "metadata": {},
     "output_type": "execute_result"
    }
   ],
   "source": [
    "print('Categorical Features ')\n",
    "print(data.select_dtypes(['object']).columns)\n",
    "print('Numeric Features')\n",
    "data.select_dtypes(['int64','float64']).columns"
   ]
  },
  {
   "cell_type": "code",
   "execution_count": 10,
   "id": "dd554b06",
   "metadata": {
    "execution": {
     "iopub.execute_input": "2021-09-02T08:57:08.486484Z",
     "iopub.status.busy": "2021-09-02T08:57:08.485677Z",
     "iopub.status.idle": "2021-09-02T08:57:08.542292Z",
     "shell.execute_reply": "2021-09-02T08:57:08.542849Z",
     "shell.execute_reply.started": "2021-09-02T08:52:48.065848Z"
    },
    "papermill": {
     "duration": 0.115519,
     "end_time": "2021-09-02T08:57:08.543030",
     "exception": false,
     "start_time": "2021-09-02T08:57:08.427511",
     "status": "completed"
    },
    "tags": []
   },
   "outputs": [
    {
     "data": {
      "text/html": [
       "<div>\n",
       "<style scoped>\n",
       "    .dataframe tbody tr th:only-of-type {\n",
       "        vertical-align: middle;\n",
       "    }\n",
       "\n",
       "    .dataframe tbody tr th {\n",
       "        vertical-align: top;\n",
       "    }\n",
       "\n",
       "    .dataframe thead th {\n",
       "        text-align: right;\n",
       "    }\n",
       "</style>\n",
       "<table border=\"1\" class=\"dataframe\">\n",
       "  <thead>\n",
       "    <tr style=\"text-align: right;\">\n",
       "      <th></th>\n",
       "      <th>count</th>\n",
       "      <th>mean</th>\n",
       "      <th>std</th>\n",
       "      <th>min</th>\n",
       "      <th>25%</th>\n",
       "      <th>50%</th>\n",
       "      <th>75%</th>\n",
       "      <th>max</th>\n",
       "    </tr>\n",
       "  </thead>\n",
       "  <tbody>\n",
       "    <tr>\n",
       "      <th>Rooms</th>\n",
       "      <td>15542.0</td>\n",
       "      <td>3.108352e+00</td>\n",
       "      <td>0.986478</td>\n",
       "      <td>1.00000</td>\n",
       "      <td>2.0000</td>\n",
       "      <td>3.000000e+00</td>\n",
       "      <td>4.000000e+00</td>\n",
       "      <td>1.200000e+01</td>\n",
       "    </tr>\n",
       "    <tr>\n",
       "      <th>Price</th>\n",
       "      <td>15542.0</td>\n",
       "      <td>1.077469e+06</td>\n",
       "      <td>591866.464970</td>\n",
       "      <td>85000.00000</td>\n",
       "      <td>700000.0000</td>\n",
       "      <td>1.077469e+06</td>\n",
       "      <td>1.190000e+06</td>\n",
       "      <td>9.000000e+06</td>\n",
       "    </tr>\n",
       "    <tr>\n",
       "      <th>Distance</th>\n",
       "      <td>15542.0</td>\n",
       "      <td>1.115160e+01</td>\n",
       "      <td>6.944602</td>\n",
       "      <td>0.00000</td>\n",
       "      <td>6.3000</td>\n",
       "      <td>1.010000e+01</td>\n",
       "      <td>1.400000e+01</td>\n",
       "      <td>4.810000e+01</td>\n",
       "    </tr>\n",
       "    <tr>\n",
       "      <th>Postcode</th>\n",
       "      <td>15542.0</td>\n",
       "      <td>3.117065e+03</td>\n",
       "      <td>115.185764</td>\n",
       "      <td>3000.00000</td>\n",
       "      <td>3047.0000</td>\n",
       "      <td>3.101000e+03</td>\n",
       "      <td>3.155000e+03</td>\n",
       "      <td>3.978000e+03</td>\n",
       "    </tr>\n",
       "    <tr>\n",
       "      <th>Bedroom2</th>\n",
       "      <td>15542.0</td>\n",
       "      <td>3.090207e+00</td>\n",
       "      <td>1.008730</td>\n",
       "      <td>0.00000</td>\n",
       "      <td>2.0000</td>\n",
       "      <td>3.000000e+00</td>\n",
       "      <td>4.000000e+00</td>\n",
       "      <td>3.000000e+01</td>\n",
       "    </tr>\n",
       "    <tr>\n",
       "      <th>Bathroom</th>\n",
       "      <td>15542.0</td>\n",
       "      <td>1.670313e+00</td>\n",
       "      <td>0.735133</td>\n",
       "      <td>0.00000</td>\n",
       "      <td>1.0000</td>\n",
       "      <td>2.000000e+00</td>\n",
       "      <td>2.000000e+00</td>\n",
       "      <td>1.200000e+01</td>\n",
       "    </tr>\n",
       "    <tr>\n",
       "      <th>Car</th>\n",
       "      <td>15542.0</td>\n",
       "      <td>1.708532e+00</td>\n",
       "      <td>0.993501</td>\n",
       "      <td>0.00000</td>\n",
       "      <td>1.0000</td>\n",
       "      <td>2.000000e+00</td>\n",
       "      <td>2.000000e+00</td>\n",
       "      <td>2.600000e+01</td>\n",
       "    </tr>\n",
       "    <tr>\n",
       "      <th>Landsize</th>\n",
       "      <td>15542.0</td>\n",
       "      <td>5.315662e+02</td>\n",
       "      <td>989.417250</td>\n",
       "      <td>0.00000</td>\n",
       "      <td>231.0000</td>\n",
       "      <td>5.315662e+02</td>\n",
       "      <td>6.420000e+02</td>\n",
       "      <td>4.280000e+04</td>\n",
       "    </tr>\n",
       "    <tr>\n",
       "      <th>BuildingArea</th>\n",
       "      <td>15542.0</td>\n",
       "      <td>1.539193e+02</td>\n",
       "      <td>82.098538</td>\n",
       "      <td>0.00000</td>\n",
       "      <td>108.0000</td>\n",
       "      <td>1.500000e+02</td>\n",
       "      <td>1.750000e+02</td>\n",
       "      <td>3.112000e+03</td>\n",
       "    </tr>\n",
       "    <tr>\n",
       "      <th>YearBuilt</th>\n",
       "      <td>15542.0</td>\n",
       "      <td>1.965281e+03</td>\n",
       "      <td>37.316407</td>\n",
       "      <td>1196.00000</td>\n",
       "      <td>1940.0000</td>\n",
       "      <td>1.970000e+03</td>\n",
       "      <td>2.000000e+03</td>\n",
       "      <td>2.106000e+03</td>\n",
       "    </tr>\n",
       "    <tr>\n",
       "      <th>Lattitude</th>\n",
       "      <td>15542.0</td>\n",
       "      <td>-3.780947e+01</td>\n",
       "      <td>0.090190</td>\n",
       "      <td>-38.19043</td>\n",
       "      <td>-37.8613</td>\n",
       "      <td>-3.780770e+01</td>\n",
       "      <td>-3.775493e+01</td>\n",
       "      <td>-3.739020e+01</td>\n",
       "    </tr>\n",
       "    <tr>\n",
       "      <th>Longtitude</th>\n",
       "      <td>15542.0</td>\n",
       "      <td>1.449990e+02</td>\n",
       "      <td>0.119808</td>\n",
       "      <td>144.42379</td>\n",
       "      <td>144.9307</td>\n",
       "      <td>1.450048e+02</td>\n",
       "      <td>1.450687e+02</td>\n",
       "      <td>1.455264e+02</td>\n",
       "    </tr>\n",
       "  </tbody>\n",
       "</table>\n",
       "</div>"
      ],
      "text/plain": [
       "                count          mean            std          min          25%  \\\n",
       "Rooms         15542.0  3.108352e+00       0.986478      1.00000       2.0000   \n",
       "Price         15542.0  1.077469e+06  591866.464970  85000.00000  700000.0000   \n",
       "Distance      15542.0  1.115160e+01       6.944602      0.00000       6.3000   \n",
       "Postcode      15542.0  3.117065e+03     115.185764   3000.00000    3047.0000   \n",
       "Bedroom2      15542.0  3.090207e+00       1.008730      0.00000       2.0000   \n",
       "Bathroom      15542.0  1.670313e+00       0.735133      0.00000       1.0000   \n",
       "Car           15542.0  1.708532e+00       0.993501      0.00000       1.0000   \n",
       "Landsize      15542.0  5.315662e+02     989.417250      0.00000     231.0000   \n",
       "BuildingArea  15542.0  1.539193e+02      82.098538      0.00000     108.0000   \n",
       "YearBuilt     15542.0  1.965281e+03      37.316407   1196.00000    1940.0000   \n",
       "Lattitude     15542.0 -3.780947e+01       0.090190    -38.19043     -37.8613   \n",
       "Longtitude    15542.0  1.449990e+02       0.119808    144.42379     144.9307   \n",
       "\n",
       "                       50%           75%           max  \n",
       "Rooms         3.000000e+00  4.000000e+00  1.200000e+01  \n",
       "Price         1.077469e+06  1.190000e+06  9.000000e+06  \n",
       "Distance      1.010000e+01  1.400000e+01  4.810000e+01  \n",
       "Postcode      3.101000e+03  3.155000e+03  3.978000e+03  \n",
       "Bedroom2      3.000000e+00  4.000000e+00  3.000000e+01  \n",
       "Bathroom      2.000000e+00  2.000000e+00  1.200000e+01  \n",
       "Car           2.000000e+00  2.000000e+00  2.600000e+01  \n",
       "Landsize      5.315662e+02  6.420000e+02  4.280000e+04  \n",
       "BuildingArea  1.500000e+02  1.750000e+02  3.112000e+03  \n",
       "YearBuilt     1.970000e+03  2.000000e+03  2.106000e+03  \n",
       "Lattitude    -3.780770e+01 -3.775493e+01 -3.739020e+01  \n",
       "Longtitude    1.450048e+02  1.450687e+02  1.455264e+02  "
      ]
     },
     "execution_count": 10,
     "metadata": {},
     "output_type": "execute_result"
    }
   ],
   "source": [
    "data.describe().T"
   ]
  },
  {
   "cell_type": "markdown",
   "id": "fcfc5e78",
   "metadata": {
    "papermill": {
     "duration": 0.051912,
     "end_time": "2021-09-02T08:57:08.652851",
     "exception": false,
     "start_time": "2021-09-02T08:57:08.600939",
     "status": "completed"
    },
    "tags": []
   },
   "source": [
    "**Notice: The Rooms column and Bedroom2 have nearly the same gerneral statistic, let's perform t-test to examinate whether they are carrying the same information or not**"
   ]
  },
  {
   "cell_type": "code",
   "execution_count": 11,
   "id": "cb14d11c",
   "metadata": {
    "execution": {
     "iopub.execute_input": "2021-09-02T08:57:08.765393Z",
     "iopub.status.busy": "2021-09-02T08:57:08.764603Z",
     "iopub.status.idle": "2021-09-02T08:57:08.773293Z",
     "shell.execute_reply": "2021-09-02T08:57:08.772587Z",
     "shell.execute_reply.started": "2021-09-02T08:52:48.121822Z"
    },
    "papermill": {
     "duration": 0.068263,
     "end_time": "2021-09-02T08:57:08.773444",
     "exception": false,
     "start_time": "2021-09-02T08:57:08.705181",
     "status": "completed"
    },
    "tags": []
   },
   "outputs": [
    {
     "data": {
      "text/plain": [
       "Ttest_indResult(statistic=1.6032290658305581, pvalue=0.10889425148587777)"
      ]
     },
     "execution_count": 11,
     "metadata": {},
     "output_type": "execute_result"
    }
   ],
   "source": [
    "#t-test\n",
    "from scipy.stats import ttest_ind\n",
    "ttest_ind(data['Rooms'], data['Bedroom2'])"
   ]
  },
  {
   "cell_type": "markdown",
   "id": "bb3d6e92",
   "metadata": {
    "papermill": {
     "duration": 0.052407,
     "end_time": "2021-09-02T08:57:08.879265",
     "exception": false,
     "start_time": "2021-09-02T08:57:08.826858",
     "status": "completed"
    },
    "tags": []
   },
   "source": [
    "**p-value** is 0.1526 which is much greater than 0.05, showing that the 2 dataset are the same since we can not reject the null hypotheis, lets drop 1 out of 2 columns\n",
    "\n",
    "**notice** The min value in the Bedroom2 columns is 0,which is imposible, so I decided to drop the Bedroom2 columns"
   ]
  },
  {
   "cell_type": "code",
   "execution_count": 12,
   "id": "701af670",
   "metadata": {
    "execution": {
     "iopub.execute_input": "2021-09-02T08:57:09.004359Z",
     "iopub.status.busy": "2021-09-02T08:57:08.989621Z",
     "iopub.status.idle": "2021-09-02T08:57:09.034033Z",
     "shell.execute_reply": "2021-09-02T08:57:09.033452Z",
     "shell.execute_reply.started": "2021-09-02T08:52:48.130607Z"
    },
    "papermill": {
     "duration": 0.102023,
     "end_time": "2021-09-02T08:57:09.034210",
     "exception": false,
     "start_time": "2021-09-02T08:57:08.932187",
     "status": "completed"
    },
    "tags": []
   },
   "outputs": [
    {
     "data": {
      "text/html": [
       "<div>\n",
       "<style scoped>\n",
       "    .dataframe tbody tr th:only-of-type {\n",
       "        vertical-align: middle;\n",
       "    }\n",
       "\n",
       "    .dataframe tbody tr th {\n",
       "        vertical-align: top;\n",
       "    }\n",
       "\n",
       "    .dataframe thead th {\n",
       "        text-align: right;\n",
       "    }\n",
       "</style>\n",
       "<table border=\"1\" class=\"dataframe\">\n",
       "  <thead>\n",
       "    <tr style=\"text-align: right;\">\n",
       "      <th></th>\n",
       "      <th>Suburb</th>\n",
       "      <th>Rooms</th>\n",
       "      <th>Type</th>\n",
       "      <th>Price</th>\n",
       "      <th>Method</th>\n",
       "      <th>Date</th>\n",
       "      <th>Distance</th>\n",
       "      <th>Postcode</th>\n",
       "      <th>Bathroom</th>\n",
       "      <th>Car</th>\n",
       "      <th>Landsize</th>\n",
       "      <th>BuildingArea</th>\n",
       "      <th>YearBuilt</th>\n",
       "      <th>CouncilArea</th>\n",
       "      <th>Lattitude</th>\n",
       "      <th>Longtitude</th>\n",
       "      <th>Regionname</th>\n",
       "    </tr>\n",
       "  </thead>\n",
       "  <tbody>\n",
       "    <tr>\n",
       "      <th>2</th>\n",
       "      <td>Abbotsford</td>\n",
       "      <td>2</td>\n",
       "      <td>h</td>\n",
       "      <td>1.035000e+06</td>\n",
       "      <td>S</td>\n",
       "      <td>4/02/2016</td>\n",
       "      <td>2.5</td>\n",
       "      <td>3067.0</td>\n",
       "      <td>1.0</td>\n",
       "      <td>0.0</td>\n",
       "      <td>156.0</td>\n",
       "      <td>79.000000</td>\n",
       "      <td>1900.0</td>\n",
       "      <td>Yarra City Council</td>\n",
       "      <td>-37.80790</td>\n",
       "      <td>144.99340</td>\n",
       "      <td>Northern Metropolitan</td>\n",
       "    </tr>\n",
       "    <tr>\n",
       "      <th>4</th>\n",
       "      <td>Abbotsford</td>\n",
       "      <td>3</td>\n",
       "      <td>h</td>\n",
       "      <td>1.465000e+06</td>\n",
       "      <td>SP</td>\n",
       "      <td>4/03/2017</td>\n",
       "      <td>2.5</td>\n",
       "      <td>3067.0</td>\n",
       "      <td>2.0</td>\n",
       "      <td>0.0</td>\n",
       "      <td>134.0</td>\n",
       "      <td>150.000000</td>\n",
       "      <td>1900.0</td>\n",
       "      <td>Yarra City Council</td>\n",
       "      <td>-37.80930</td>\n",
       "      <td>144.99440</td>\n",
       "      <td>Northern Metropolitan</td>\n",
       "    </tr>\n",
       "    <tr>\n",
       "      <th>6</th>\n",
       "      <td>Abbotsford</td>\n",
       "      <td>4</td>\n",
       "      <td>h</td>\n",
       "      <td>1.600000e+06</td>\n",
       "      <td>VB</td>\n",
       "      <td>4/06/2016</td>\n",
       "      <td>2.5</td>\n",
       "      <td>3067.0</td>\n",
       "      <td>1.0</td>\n",
       "      <td>2.0</td>\n",
       "      <td>120.0</td>\n",
       "      <td>142.000000</td>\n",
       "      <td>2014.0</td>\n",
       "      <td>Yarra City Council</td>\n",
       "      <td>-37.80720</td>\n",
       "      <td>144.99410</td>\n",
       "      <td>Northern Metropolitan</td>\n",
       "    </tr>\n",
       "    <tr>\n",
       "      <th>7</th>\n",
       "      <td>Abbotsford</td>\n",
       "      <td>4</td>\n",
       "      <td>h</td>\n",
       "      <td>1.077469e+06</td>\n",
       "      <td>SN</td>\n",
       "      <td>6/08/2016</td>\n",
       "      <td>2.5</td>\n",
       "      <td>3067.0</td>\n",
       "      <td>2.0</td>\n",
       "      <td>2.0</td>\n",
       "      <td>400.0</td>\n",
       "      <td>220.000000</td>\n",
       "      <td>2006.0</td>\n",
       "      <td>Yarra City Council</td>\n",
       "      <td>-37.79650</td>\n",
       "      <td>144.99650</td>\n",
       "      <td>Northern Metropolitan</td>\n",
       "    </tr>\n",
       "    <tr>\n",
       "      <th>8</th>\n",
       "      <td>Abbotsford</td>\n",
       "      <td>2</td>\n",
       "      <td>h</td>\n",
       "      <td>1.077469e+06</td>\n",
       "      <td>S</td>\n",
       "      <td>6/08/2016</td>\n",
       "      <td>2.5</td>\n",
       "      <td>3067.0</td>\n",
       "      <td>1.0</td>\n",
       "      <td>2.0</td>\n",
       "      <td>201.0</td>\n",
       "      <td>153.919348</td>\n",
       "      <td>1900.0</td>\n",
       "      <td>Yarra City Council</td>\n",
       "      <td>-37.79950</td>\n",
       "      <td>144.99740</td>\n",
       "      <td>Northern Metropolitan</td>\n",
       "    </tr>\n",
       "    <tr>\n",
       "      <th>...</th>\n",
       "      <td>...</td>\n",
       "      <td>...</td>\n",
       "      <td>...</td>\n",
       "      <td>...</td>\n",
       "      <td>...</td>\n",
       "      <td>...</td>\n",
       "      <td>...</td>\n",
       "      <td>...</td>\n",
       "      <td>...</td>\n",
       "      <td>...</td>\n",
       "      <td>...</td>\n",
       "      <td>...</td>\n",
       "      <td>...</td>\n",
       "      <td>...</td>\n",
       "      <td>...</td>\n",
       "      <td>...</td>\n",
       "      <td>...</td>\n",
       "    </tr>\n",
       "    <tr>\n",
       "      <th>34849</th>\n",
       "      <td>Wollert</td>\n",
       "      <td>3</td>\n",
       "      <td>h</td>\n",
       "      <td>5.700000e+05</td>\n",
       "      <td>SP</td>\n",
       "      <td>24/02/2018</td>\n",
       "      <td>25.5</td>\n",
       "      <td>3750.0</td>\n",
       "      <td>2.0</td>\n",
       "      <td>2.0</td>\n",
       "      <td>404.0</td>\n",
       "      <td>158.000000</td>\n",
       "      <td>2012.0</td>\n",
       "      <td>Whittlesea City Council</td>\n",
       "      <td>-37.61031</td>\n",
       "      <td>145.03393</td>\n",
       "      <td>Northern Metropolitan</td>\n",
       "    </tr>\n",
       "    <tr>\n",
       "      <th>34850</th>\n",
       "      <td>Wollert</td>\n",
       "      <td>3</td>\n",
       "      <td>h</td>\n",
       "      <td>1.077469e+06</td>\n",
       "      <td>SP</td>\n",
       "      <td>24/02/2018</td>\n",
       "      <td>25.5</td>\n",
       "      <td>3750.0</td>\n",
       "      <td>2.0</td>\n",
       "      <td>2.0</td>\n",
       "      <td>268.0</td>\n",
       "      <td>135.000000</td>\n",
       "      <td>2016.0</td>\n",
       "      <td>Whittlesea City Council</td>\n",
       "      <td>-37.61094</td>\n",
       "      <td>145.04281</td>\n",
       "      <td>Northern Metropolitan</td>\n",
       "    </tr>\n",
       "    <tr>\n",
       "      <th>34853</th>\n",
       "      <td>Yarraville</td>\n",
       "      <td>2</td>\n",
       "      <td>h</td>\n",
       "      <td>8.880000e+05</td>\n",
       "      <td>SP</td>\n",
       "      <td>24/02/2018</td>\n",
       "      <td>6.3</td>\n",
       "      <td>3013.0</td>\n",
       "      <td>2.0</td>\n",
       "      <td>1.0</td>\n",
       "      <td>98.0</td>\n",
       "      <td>104.000000</td>\n",
       "      <td>2018.0</td>\n",
       "      <td>Maribyrnong City Council</td>\n",
       "      <td>-37.81551</td>\n",
       "      <td>144.88826</td>\n",
       "      <td>Western Metropolitan</td>\n",
       "    </tr>\n",
       "    <tr>\n",
       "      <th>34854</th>\n",
       "      <td>Yarraville</td>\n",
       "      <td>2</td>\n",
       "      <td>t</td>\n",
       "      <td>7.050000e+05</td>\n",
       "      <td>S</td>\n",
       "      <td>24/02/2018</td>\n",
       "      <td>6.3</td>\n",
       "      <td>3013.0</td>\n",
       "      <td>1.0</td>\n",
       "      <td>2.0</td>\n",
       "      <td>220.0</td>\n",
       "      <td>120.000000</td>\n",
       "      <td>2000.0</td>\n",
       "      <td>Maribyrnong City Council</td>\n",
       "      <td>-37.82286</td>\n",
       "      <td>144.87856</td>\n",
       "      <td>Western Metropolitan</td>\n",
       "    </tr>\n",
       "    <tr>\n",
       "      <th>34856</th>\n",
       "      <td>Yarraville</td>\n",
       "      <td>2</td>\n",
       "      <td>h</td>\n",
       "      <td>1.020000e+06</td>\n",
       "      <td>PI</td>\n",
       "      <td>24/02/2018</td>\n",
       "      <td>6.3</td>\n",
       "      <td>3013.0</td>\n",
       "      <td>1.0</td>\n",
       "      <td>0.0</td>\n",
       "      <td>250.0</td>\n",
       "      <td>103.000000</td>\n",
       "      <td>1930.0</td>\n",
       "      <td>Maribyrnong City Council</td>\n",
       "      <td>-37.81810</td>\n",
       "      <td>144.89351</td>\n",
       "      <td>Western Metropolitan</td>\n",
       "    </tr>\n",
       "  </tbody>\n",
       "</table>\n",
       "<p>15542 rows × 17 columns</p>\n",
       "</div>"
      ],
      "text/plain": [
       "           Suburb  Rooms Type         Price Method        Date  Distance  \\\n",
       "2      Abbotsford      2    h  1.035000e+06      S   4/02/2016       2.5   \n",
       "4      Abbotsford      3    h  1.465000e+06     SP   4/03/2017       2.5   \n",
       "6      Abbotsford      4    h  1.600000e+06     VB   4/06/2016       2.5   \n",
       "7      Abbotsford      4    h  1.077469e+06     SN   6/08/2016       2.5   \n",
       "8      Abbotsford      2    h  1.077469e+06      S   6/08/2016       2.5   \n",
       "...           ...    ...  ...           ...    ...         ...       ...   \n",
       "34849     Wollert      3    h  5.700000e+05     SP  24/02/2018      25.5   \n",
       "34850     Wollert      3    h  1.077469e+06     SP  24/02/2018      25.5   \n",
       "34853  Yarraville      2    h  8.880000e+05     SP  24/02/2018       6.3   \n",
       "34854  Yarraville      2    t  7.050000e+05      S  24/02/2018       6.3   \n",
       "34856  Yarraville      2    h  1.020000e+06     PI  24/02/2018       6.3   \n",
       "\n",
       "       Postcode  Bathroom  Car  Landsize  BuildingArea  YearBuilt  \\\n",
       "2        3067.0       1.0  0.0     156.0     79.000000     1900.0   \n",
       "4        3067.0       2.0  0.0     134.0    150.000000     1900.0   \n",
       "6        3067.0       1.0  2.0     120.0    142.000000     2014.0   \n",
       "7        3067.0       2.0  2.0     400.0    220.000000     2006.0   \n",
       "8        3067.0       1.0  2.0     201.0    153.919348     1900.0   \n",
       "...         ...       ...  ...       ...           ...        ...   \n",
       "34849    3750.0       2.0  2.0     404.0    158.000000     2012.0   \n",
       "34850    3750.0       2.0  2.0     268.0    135.000000     2016.0   \n",
       "34853    3013.0       2.0  1.0      98.0    104.000000     2018.0   \n",
       "34854    3013.0       1.0  2.0     220.0    120.000000     2000.0   \n",
       "34856    3013.0       1.0  0.0     250.0    103.000000     1930.0   \n",
       "\n",
       "                    CouncilArea  Lattitude  Longtitude             Regionname  \n",
       "2            Yarra City Council  -37.80790   144.99340  Northern Metropolitan  \n",
       "4            Yarra City Council  -37.80930   144.99440  Northern Metropolitan  \n",
       "6            Yarra City Council  -37.80720   144.99410  Northern Metropolitan  \n",
       "7            Yarra City Council  -37.79650   144.99650  Northern Metropolitan  \n",
       "8            Yarra City Council  -37.79950   144.99740  Northern Metropolitan  \n",
       "...                         ...        ...         ...                    ...  \n",
       "34849   Whittlesea City Council  -37.61031   145.03393  Northern Metropolitan  \n",
       "34850   Whittlesea City Council  -37.61094   145.04281  Northern Metropolitan  \n",
       "34853  Maribyrnong City Council  -37.81551   144.88826   Western Metropolitan  \n",
       "34854  Maribyrnong City Council  -37.82286   144.87856   Western Metropolitan  \n",
       "34856  Maribyrnong City Council  -37.81810   144.89351   Western Metropolitan  \n",
       "\n",
       "[15542 rows x 17 columns]"
      ]
     },
     "execution_count": 12,
     "metadata": {},
     "output_type": "execute_result"
    }
   ],
   "source": [
    "data.drop(['Bedroom2'], axis = 1)"
   ]
  },
  {
   "cell_type": "markdown",
   "id": "38db66dd",
   "metadata": {
    "papermill": {
     "duration": 0.053956,
     "end_time": "2021-09-02T08:57:09.146986",
     "exception": false,
     "start_time": "2021-09-02T08:57:09.093030",
     "status": "completed"
    },
    "tags": []
   },
   "source": [
    "## Adjusting Features"
   ]
  },
  {
   "cell_type": "markdown",
   "id": "4ca49fe3",
   "metadata": {
    "papermill": {
     "duration": 0.053203,
     "end_time": "2021-09-02T08:57:09.253787",
     "exception": false,
     "start_time": "2021-09-02T08:57:09.200584",
     "status": "completed"
    },
    "tags": []
   },
   "source": [
    "**Notice** The Room column and Bedroom2 have nearly the same gerneral statistic, let's perform t-test to examinate whether they are carrying the same information or not"
   ]
  },
  {
   "cell_type": "code",
   "execution_count": 13,
   "id": "41aa5b13",
   "metadata": {
    "execution": {
     "iopub.execute_input": "2021-09-02T08:57:09.368170Z",
     "iopub.status.busy": "2021-09-02T08:57:09.366077Z",
     "iopub.status.idle": "2021-09-02T08:57:09.371736Z",
     "shell.execute_reply": "2021-09-02T08:57:09.372261Z",
     "shell.execute_reply.started": "2021-09-02T08:52:48.181666Z"
    },
    "papermill": {
     "duration": 0.064509,
     "end_time": "2021-09-02T08:57:09.372435",
     "exception": false,
     "start_time": "2021-09-02T08:57:09.307926",
     "status": "completed"
    },
    "tags": []
   },
   "outputs": [
    {
     "data": {
      "text/plain": [
       "Ttest_indResult(statistic=1.6032290658305581, pvalue=0.10889425148587777)"
      ]
     },
     "execution_count": 13,
     "metadata": {},
     "output_type": "execute_result"
    }
   ],
   "source": [
    "#t-test\n",
    "from scipy.stats import ttest_ind\n",
    "ttest_ind(data['Rooms'], data['Bedroom2'])"
   ]
  },
  {
   "cell_type": "markdown",
   "id": "fc97659a",
   "metadata": {
    "papermill": {
     "duration": 0.056269,
     "end_time": "2021-09-02T08:57:09.483609",
     "exception": false,
     "start_time": "2021-09-02T08:57:09.427340",
     "status": "completed"
    },
    "tags": []
   },
   "source": [
    "**p-value** is 0.1526 which is much greater than 0.05, showing that the 2 dataset are the same since we can not reject the null hypotheis, lets drop 1 out of 2 columns\n",
    "\n",
    "**notice** The min value in the Bedroom2 columns is 0, so I decided to drop the Bedroom2 columns"
   ]
  },
  {
   "cell_type": "code",
   "execution_count": 14,
   "id": "da11e6fc",
   "metadata": {
    "execution": {
     "iopub.execute_input": "2021-09-02T08:57:09.601690Z",
     "iopub.status.busy": "2021-09-02T08:57:09.600886Z",
     "iopub.status.idle": "2021-09-02T08:57:09.605870Z",
     "shell.execute_reply": "2021-09-02T08:57:09.606377Z",
     "shell.execute_reply.started": "2021-09-02T08:52:48.191102Z"
    },
    "papermill": {
     "duration": 0.065661,
     "end_time": "2021-09-02T08:57:09.606580",
     "exception": false,
     "start_time": "2021-09-02T08:57:09.540919",
     "status": "completed"
    },
    "tags": []
   },
   "outputs": [],
   "source": [
    "data = data.drop(['Bedroom2'], axis=1)"
   ]
  },
  {
   "cell_type": "markdown",
   "id": "4d4cd332",
   "metadata": {
    "papermill": {
     "duration": 0.054294,
     "end_time": "2021-09-02T08:57:09.716052",
     "exception": false,
     "start_time": "2021-09-02T08:57:09.661758",
     "status": "completed"
    },
    "tags": []
   },
   "source": [
    "## Data Visualization"
   ]
  },
  {
   "cell_type": "markdown",
   "id": "08468482",
   "metadata": {
    "papermill": {
     "duration": 0.055343,
     "end_time": "2021-09-02T08:57:09.826980",
     "exception": false,
     "start_time": "2021-09-02T08:57:09.771637",
     "status": "completed"
    },
    "tags": []
   },
   "source": [
    "**Correlation Heatmap**"
   ]
  },
  {
   "cell_type": "code",
   "execution_count": 15,
   "id": "2a4df79d",
   "metadata": {
    "execution": {
     "iopub.execute_input": "2021-09-02T08:57:09.939366Z",
     "iopub.status.busy": "2021-09-02T08:57:09.938587Z",
     "iopub.status.idle": "2021-09-02T08:57:11.114978Z",
     "shell.execute_reply": "2021-09-02T08:57:11.114416Z",
     "shell.execute_reply.started": "2021-09-02T08:52:48.204051Z"
    },
    "papermill": {
     "duration": 1.233568,
     "end_time": "2021-09-02T08:57:11.115144",
     "exception": false,
     "start_time": "2021-09-02T08:57:09.881576",
     "status": "completed"
    },
    "tags": []
   },
   "outputs": [
    {
     "data": {
      "text/plain": [
       "Text(0.5, 1.0, 'Correlation of features')"
      ]
     },
     "execution_count": 15,
     "metadata": {},
     "output_type": "execute_result"
    },
    {
     "data": {
      "image/png": "[encoded data removed]",
      "text/plain": [
       "<Figure size 720x720 with 2 Axes>"
      ]
     },
     "metadata": {
      "needs_background": "light"
     },
     "output_type": "display_data"
    }
   ],
   "source": [
    "plt.figure(figsize=(10,10))\n",
    "sns.heatmap(data.corr(), cmap = 'viridis', linewidth =1, annot=True, annot_kws = {'size':9})\n",
    "plt.title('Correlation of features')"
   ]
  },
  {
   "cell_type": "markdown",
   "id": "1e5a541c",
   "metadata": {
    "papermill": {
     "duration": 0.054956,
     "end_time": "2021-09-02T08:57:11.225693",
     "exception": false,
     "start_time": "2021-09-02T08:57:11.170737",
     "status": "completed"
    },
    "tags": []
   },
   "source": [
    "**Price Distribution**"
   ]
  },
  {
   "cell_type": "code",
   "execution_count": 16,
   "id": "6eaf1598",
   "metadata": {
    "execution": {
     "iopub.execute_input": "2021-09-02T08:57:11.344143Z",
     "iopub.status.busy": "2021-09-02T08:57:11.343443Z",
     "iopub.status.idle": "2021-09-02T08:57:11.631165Z",
     "shell.execute_reply": "2021-09-02T08:57:11.630596Z",
     "shell.execute_reply.started": "2021-09-02T08:52:49.190538Z"
    },
    "papermill": {
     "duration": 0.349276,
     "end_time": "2021-09-02T08:57:11.631314",
     "exception": false,
     "start_time": "2021-09-02T08:57:11.282038",
     "status": "completed"
    },
    "tags": []
   },
   "outputs": [
    {
     "name": "stderr",
     "output_type": "stream",
     "text": [
      "/opt/conda/lib/python3.7/site-packages/seaborn/distributions.py:2557: FutureWarning: `distplot` is a deprecated function and will be removed in a future version. Please adapt your code to use either `displot` (a figure-level function with similar flexibility) or `histplot` (an axes-level function for histograms).\n",
      "  warnings.warn(msg, FutureWarning)\n"
     ]
    },
    {
     "data": {
      "text/plain": [
       "<AxesSubplot:xlabel='Price'>"
      ]
     },
     "execution_count": 16,
     "metadata": {},
     "output_type": "execute_result"
    },
    {
     "data": {
      "image/png": "[encoded data removed]",
      "text/plain": [
       "<Figure size 1080x576 with 1 Axes>"
      ]
     },
     "metadata": {
      "needs_background": "light"
     },
     "output_type": "display_data"
    }
   ],
   "source": [
    "plt.figure(figsize=(15,8))\n",
    "sns.distplot(data['Price'], kde = False,hist_kws=dict(edgecolor=\"b\"))"
   ]
  },
  {
   "cell_type": "markdown",
   "id": "db04bb18",
   "metadata": {
    "papermill": {
     "duration": 0.056581,
     "end_time": "2021-09-02T08:57:11.744529",
     "exception": false,
     "start_time": "2021-09-02T08:57:11.687948",
     "status": "completed"
    },
    "tags": []
   },
   "source": [
    "**Ploting categorical Features with Price**"
   ]
  },
  {
   "cell_type": "code",
   "execution_count": 17,
   "id": "e6b93549",
   "metadata": {
    "execution": {
     "iopub.execute_input": "2021-09-02T08:57:12.007743Z",
     "iopub.status.busy": "2021-09-02T08:57:12.006759Z",
     "iopub.status.idle": "2021-09-02T08:57:12.516593Z",
     "shell.execute_reply": "2021-09-02T08:57:12.517088Z",
     "shell.execute_reply.started": "2021-09-02T08:52:49.480425Z"
    },
    "papermill": {
     "duration": 0.715731,
     "end_time": "2021-09-02T08:57:12.517305",
     "exception": false,
     "start_time": "2021-09-02T08:57:11.801574",
     "status": "completed"
    },
    "tags": []
   },
   "outputs": [
    {
     "data": {
      "text/plain": [
       "Text(0.5, 1.0, 'Method vs Price')"
      ]
     },
     "execution_count": 17,
     "metadata": {},
     "output_type": "execute_result"
    },
    {
     "data": {
      "image/png": "[encoded data removed]",
      "text/plain": [
       "<Figure size 1080x576 with 2 Axes>"
      ]
     },
     "metadata": {
      "needs_background": "light"
     },
     "output_type": "display_data"
    }
   ],
   "source": [
    "plt.figure(figsize =(15,8))\n",
    "\n",
    "ax1 = plt.subplot(1,2,1)\n",
    "sns.boxplot(data=data, x='Type', y='Price')\n",
    "ax1.set_xlabel('Type')\n",
    "ax1.set_ylabel('Price')\n",
    "ax1.set_title('Type vs Price')\n",
    "\n",
    "ax2 = plt.subplot(1,2,2,sharey=ax1)\n",
    "sns.boxplot(data=data, x='Method', y='Price')\n",
    "ax2.set_xlabel('Method')\n",
    "ax2.set_ylabel('Price')\n",
    "ax2.set_title('Method vs Price')\n",
    "\n",
    "\n"
   ]
  },
  {
   "cell_type": "markdown",
   "id": "7ae8ab86",
   "metadata": {
    "papermill": {
     "duration": 0.060254,
     "end_time": "2021-09-02T08:57:12.636970",
     "exception": false,
     "start_time": "2021-09-02T08:57:12.576716",
     "status": "completed"
    },
    "tags": []
   },
   "source": [
    "**Plotting numeric variables**\n",
    "\n",
    "Base on the Correlation Heatmap, the  mumeric variables that has significant correlation to Price is : Rooms, Bathroom, Cars, BuildingArea, Longittude"
   ]
  },
  {
   "cell_type": "code",
   "execution_count": 18,
   "id": "47e8eeb5",
   "metadata": {
    "execution": {
     "iopub.execute_input": "2021-09-02T08:57:12.763626Z",
     "iopub.status.busy": "2021-09-02T08:57:12.762836Z",
     "iopub.status.idle": "2021-09-02T08:57:19.879068Z",
     "shell.execute_reply": "2021-09-02T08:57:19.879602Z",
     "shell.execute_reply.started": "2021-09-02T08:52:50.110726Z"
    },
    "papermill": {
     "duration": 7.184235,
     "end_time": "2021-09-02T08:57:19.879784",
     "exception": false,
     "start_time": "2021-09-02T08:57:12.695549",
     "status": "completed"
    },
    "tags": []
   },
   "outputs": [
    {
     "data": {
      "text/plain": [
       "Text(0.5, 1.0, 'Longtitude vs Price')"
      ]
     },
     "execution_count": 18,
     "metadata": {},
     "output_type": "execute_result"
    },
    {
     "data": {
      "image/png": "[encoded data removed]",
      "text/plain": [
       "<Figure size 1440x1440 with 5 Axes>"
      ]
     },
     "metadata": {},
     "output_type": "display_data"
    }
   ],
   "source": [
    "sns.set_style('darkgrid')\n",
    "sns.set(font_scale =1)\n",
    "\n",
    "plt.figure(figsize=(20,20))\n",
    "\n",
    "ax1 =plt.subplot(3,2,1)\n",
    "sns.regplot(data=data, x='Rooms', y='Price',scatter_kws={\"color\": \"blue\"}, line_kws={\"color\": \"red\"})\n",
    "ax1.set_xlabel('Rooms')\n",
    "ax1.set_ylabel('Price')\n",
    "ax1.set_title('Type vs Price')\n",
    "\n",
    "ax2 = plt.subplot(3,2,2)\n",
    "sns.regplot(data=data, x='Bathroom', y='Price',scatter_kws={\"color\": \"blue\"}, line_kws={\"color\": \"red\"})\n",
    "ax2.set_xlabel('Bath Room')\n",
    "ax2.set_ylabel('Price')\n",
    "ax2.set_title('Bath Room vs Price')\n",
    "\n",
    "ax3 = plt.subplot(3,2,3)\n",
    "sns.regplot(data=data, x='Car', y='Price',scatter_kws={\"color\": \"blue\"}, line_kws={\"color\": \"red\"})\n",
    "ax3.set_xlabel('Car')\n",
    "ax3.set_ylabel('Price')\n",
    "ax3.set_title('Car vs Price')\n",
    "\n",
    "ax4 = plt.subplot(3,2,4)\n",
    "sns.regplot(data=data, x='BuildingArea', y='Price',scatter_kws={\"color\": \"blue\"}, line_kws={\"color\": \"red\"})\n",
    "ax4.set_xlabel('BuildingArea')\n",
    "ax4.set_ylabel('Price')\n",
    "ax4.set_title('BuildingArea vs Price')\n",
    "\n",
    "ax5 = plt.subplot(3,2,5)\n",
    "sns.regplot(data=data, x='Longtitude', y='Price',scatter_kws={\"color\": \"blue\"}, line_kws={\"color\": \"red\"})\n",
    "ax5.set_xlabel('Longtitude')\n",
    "ax5.set_ylabel('Price')\n",
    "ax5.set_title('Longtitude vs Price')"
   ]
  },
  {
   "cell_type": "markdown",
   "id": "cce73a61",
   "metadata": {
    "papermill": {
     "duration": 0.063591,
     "end_time": "2021-09-02T08:57:20.006942",
     "exception": false,
     "start_time": "2021-09-02T08:57:19.943351",
     "status": "completed"
    },
    "tags": []
   },
   "source": []
  },
  {
   "cell_type": "markdown",
   "id": "d55fcd61",
   "metadata": {
    "papermill": {
     "duration": 0.063317,
     "end_time": "2021-09-02T08:57:20.135736",
     "exception": false,
     "start_time": "2021-09-02T08:57:20.072419",
     "status": "completed"
    },
    "tags": []
   },
   "source": [
    "## Outliers"
   ]
  },
  {
   "cell_type": "code",
   "execution_count": 19,
   "id": "dfad88db",
   "metadata": {
    "execution": {
     "iopub.execute_input": "2021-09-02T08:57:20.293024Z",
     "iopub.status.busy": "2021-09-02T08:57:20.269522Z",
     "iopub.status.idle": "2021-09-02T08:57:20.416858Z",
     "shell.execute_reply": "2021-09-02T08:57:20.417453Z",
     "shell.execute_reply.started": "2021-09-02T08:52:55.916277Z"
    },
    "papermill": {
     "duration": 0.21865,
     "end_time": "2021-09-02T08:57:20.417638",
     "exception": false,
     "start_time": "2021-09-02T08:57:20.198988",
     "status": "completed"
    },
    "tags": []
   },
   "outputs": [
    {
     "data": {
      "text/plain": [
       "<AxesSubplot:ylabel='Price'>"
      ]
     },
     "execution_count": 19,
     "metadata": {},
     "output_type": "execute_result"
    },
    {
     "data": {
      "image/png": "[encoded data removed]",
      "text/plain": [
       "<Figure size 576x720 with 1 Axes>"
      ]
     },
     "metadata": {},
     "output_type": "display_data"
    }
   ],
   "source": [
    "plt.figure(figsize=(8,10))\n",
    "sns.boxplot(data = data, y='Price')"
   ]
  },
  {
   "cell_type": "markdown",
   "id": "98cf8a65",
   "metadata": {
    "papermill": {
     "duration": 0.065063,
     "end_time": "2021-09-02T08:57:20.548066",
     "exception": false,
     "start_time": "2021-09-02T08:57:20.483003",
     "status": "completed"
    },
    "tags": []
   },
   "source": [
    "As can be seen from the Price boxplot, the maximum value for the price is 2.5M dollar, and there are a lot of outliers"
   ]
  },
  {
   "cell_type": "code",
   "execution_count": 20,
   "id": "af8c4665",
   "metadata": {
    "execution": {
     "iopub.execute_input": "2021-09-02T08:57:20.681044Z",
     "iopub.status.busy": "2021-09-02T08:57:20.680271Z",
     "iopub.status.idle": "2021-09-02T08:57:20.730897Z",
     "shell.execute_reply": "2021-09-02T08:57:20.731425Z",
     "shell.execute_reply.started": "2021-09-02T08:52:56.040285Z"
    },
    "papermill": {
     "duration": 0.118378,
     "end_time": "2021-09-02T08:57:20.731597",
     "exception": false,
     "start_time": "2021-09-02T08:57:20.613219",
     "status": "completed"
    },
    "tags": []
   },
   "outputs": [
    {
     "data": {
      "text/html": [
       "<div>\n",
       "<style scoped>\n",
       "    .dataframe tbody tr th:only-of-type {\n",
       "        vertical-align: middle;\n",
       "    }\n",
       "\n",
       "    .dataframe tbody tr th {\n",
       "        vertical-align: top;\n",
       "    }\n",
       "\n",
       "    .dataframe thead th {\n",
       "        text-align: right;\n",
       "    }\n",
       "</style>\n",
       "<table border=\"1\" class=\"dataframe\">\n",
       "  <thead>\n",
       "    <tr style=\"text-align: right;\">\n",
       "      <th></th>\n",
       "      <th>count</th>\n",
       "      <th>mean</th>\n",
       "      <th>std</th>\n",
       "      <th>min</th>\n",
       "      <th>25%</th>\n",
       "      <th>50%</th>\n",
       "      <th>75%</th>\n",
       "      <th>max</th>\n",
       "    </tr>\n",
       "  </thead>\n",
       "  <tbody>\n",
       "    <tr>\n",
       "      <th>Rooms</th>\n",
       "      <td>488.0</td>\n",
       "      <td>4.237705e+00</td>\n",
       "      <td>0.795813</td>\n",
       "      <td>2.000000e+00</td>\n",
       "      <td>4.000000e+00</td>\n",
       "      <td>4.000000e+00</td>\n",
       "      <td>5.000000e+00</td>\n",
       "      <td>8.000000e+00</td>\n",
       "    </tr>\n",
       "    <tr>\n",
       "      <th>Price</th>\n",
       "      <td>488.0</td>\n",
       "      <td>3.268546e+06</td>\n",
       "      <td>869448.315223</td>\n",
       "      <td>2.504000e+06</td>\n",
       "      <td>2.700000e+06</td>\n",
       "      <td>2.995000e+06</td>\n",
       "      <td>3.502500e+06</td>\n",
       "      <td>9.000000e+06</td>\n",
       "    </tr>\n",
       "    <tr>\n",
       "      <th>Distance</th>\n",
       "      <td>488.0</td>\n",
       "      <td>7.804918e+00</td>\n",
       "      <td>3.260745</td>\n",
       "      <td>1.500000e+00</td>\n",
       "      <td>5.400000e+00</td>\n",
       "      <td>7.800000e+00</td>\n",
       "      <td>1.020000e+01</td>\n",
       "      <td>2.110000e+01</td>\n",
       "    </tr>\n",
       "    <tr>\n",
       "      <th>Postcode</th>\n",
       "      <td>488.0</td>\n",
       "      <td>3.134783e+03</td>\n",
       "      <td>43.531267</td>\n",
       "      <td>3.002000e+03</td>\n",
       "      <td>3.103000e+03</td>\n",
       "      <td>3.127000e+03</td>\n",
       "      <td>3.182000e+03</td>\n",
       "      <td>3.207000e+03</td>\n",
       "    </tr>\n",
       "    <tr>\n",
       "      <th>Bathroom</th>\n",
       "      <td>488.0</td>\n",
       "      <td>2.706967e+00</td>\n",
       "      <td>0.925452</td>\n",
       "      <td>1.000000e+00</td>\n",
       "      <td>2.000000e+00</td>\n",
       "      <td>3.000000e+00</td>\n",
       "      <td>3.000000e+00</td>\n",
       "      <td>7.000000e+00</td>\n",
       "    </tr>\n",
       "    <tr>\n",
       "      <th>Car</th>\n",
       "      <td>488.0</td>\n",
       "      <td>2.278689e+00</td>\n",
       "      <td>1.132041</td>\n",
       "      <td>0.000000e+00</td>\n",
       "      <td>2.000000e+00</td>\n",
       "      <td>2.000000e+00</td>\n",
       "      <td>3.000000e+00</td>\n",
       "      <td>8.000000e+00</td>\n",
       "    </tr>\n",
       "    <tr>\n",
       "      <th>Landsize</th>\n",
       "      <td>488.0</td>\n",
       "      <td>7.372722e+02</td>\n",
       "      <td>462.043735</td>\n",
       "      <td>0.000000e+00</td>\n",
       "      <td>5.315662e+02</td>\n",
       "      <td>6.675000e+02</td>\n",
       "      <td>8.337500e+02</td>\n",
       "      <td>5.022000e+03</td>\n",
       "    </tr>\n",
       "    <tr>\n",
       "      <th>BuildingArea</th>\n",
       "      <td>488.0</td>\n",
       "      <td>2.752349e+02</td>\n",
       "      <td>165.969580</td>\n",
       "      <td>0.000000e+00</td>\n",
       "      <td>1.825000e+02</td>\n",
       "      <td>2.650000e+02</td>\n",
       "      <td>3.342500e+02</td>\n",
       "      <td>3.112000e+03</td>\n",
       "    </tr>\n",
       "    <tr>\n",
       "      <th>YearBuilt</th>\n",
       "      <td>488.0</td>\n",
       "      <td>1.946607e+03</td>\n",
       "      <td>45.790714</td>\n",
       "      <td>1.854000e+03</td>\n",
       "      <td>1.910000e+03</td>\n",
       "      <td>1.932000e+03</td>\n",
       "      <td>1.998000e+03</td>\n",
       "      <td>2.017000e+03</td>\n",
       "    </tr>\n",
       "    <tr>\n",
       "      <th>Lattitude</th>\n",
       "      <td>488.0</td>\n",
       "      <td>-3.784255e+01</td>\n",
       "      <td>0.045750</td>\n",
       "      <td>-3.798740e+01</td>\n",
       "      <td>-3.786540e+01</td>\n",
       "      <td>-3.783886e+01</td>\n",
       "      <td>-3.781150e+01</td>\n",
       "      <td>-3.773896e+01</td>\n",
       "    </tr>\n",
       "    <tr>\n",
       "      <th>Longtitude</th>\n",
       "      <td>488.0</td>\n",
       "      <td>1.450312e+02</td>\n",
       "      <td>0.050668</td>\n",
       "      <td>1.448869e+02</td>\n",
       "      <td>1.450000e+02</td>\n",
       "      <td>1.450338e+02</td>\n",
       "      <td>1.450668e+02</td>\n",
       "      <td>1.451962e+02</td>\n",
       "    </tr>\n",
       "  </tbody>\n",
       "</table>\n",
       "</div>"
      ],
      "text/plain": [
       "              count          mean            std           min           25%  \\\n",
       "Rooms         488.0  4.237705e+00       0.795813  2.000000e+00  4.000000e+00   \n",
       "Price         488.0  3.268546e+06  869448.315223  2.504000e+06  2.700000e+06   \n",
       "Distance      488.0  7.804918e+00       3.260745  1.500000e+00  5.400000e+00   \n",
       "Postcode      488.0  3.134783e+03      43.531267  3.002000e+03  3.103000e+03   \n",
       "Bathroom      488.0  2.706967e+00       0.925452  1.000000e+00  2.000000e+00   \n",
       "Car           488.0  2.278689e+00       1.132041  0.000000e+00  2.000000e+00   \n",
       "Landsize      488.0  7.372722e+02     462.043735  0.000000e+00  5.315662e+02   \n",
       "BuildingArea  488.0  2.752349e+02     165.969580  0.000000e+00  1.825000e+02   \n",
       "YearBuilt     488.0  1.946607e+03      45.790714  1.854000e+03  1.910000e+03   \n",
       "Lattitude     488.0 -3.784255e+01       0.045750 -3.798740e+01 -3.786540e+01   \n",
       "Longtitude    488.0  1.450312e+02       0.050668  1.448869e+02  1.450000e+02   \n",
       "\n",
       "                       50%           75%           max  \n",
       "Rooms         4.000000e+00  5.000000e+00  8.000000e+00  \n",
       "Price         2.995000e+06  3.502500e+06  9.000000e+06  \n",
       "Distance      7.800000e+00  1.020000e+01  2.110000e+01  \n",
       "Postcode      3.127000e+03  3.182000e+03  3.207000e+03  \n",
       "Bathroom      3.000000e+00  3.000000e+00  7.000000e+00  \n",
       "Car           2.000000e+00  3.000000e+00  8.000000e+00  \n",
       "Landsize      6.675000e+02  8.337500e+02  5.022000e+03  \n",
       "BuildingArea  2.650000e+02  3.342500e+02  3.112000e+03  \n",
       "YearBuilt     1.932000e+03  1.998000e+03  2.017000e+03  \n",
       "Lattitude    -3.783886e+01 -3.781150e+01 -3.773896e+01  \n",
       "Longtitude    1.450338e+02  1.450668e+02  1.451962e+02  "
      ]
     },
     "execution_count": 20,
     "metadata": {},
     "output_type": "execute_result"
    }
   ],
   "source": [
    "outliers = data[data['Price']>2500000]\n",
    "outliers.describe().T\n"
   ]
  },
  {
   "cell_type": "code",
   "execution_count": 21,
   "id": "d47b567d",
   "metadata": {
    "execution": {
     "iopub.execute_input": "2021-09-02T08:57:20.865353Z",
     "iopub.status.busy": "2021-09-02T08:57:20.864688Z",
     "iopub.status.idle": "2021-09-02T08:57:20.916824Z",
     "shell.execute_reply": "2021-09-02T08:57:20.916159Z",
     "shell.execute_reply.started": "2021-09-02T08:52:56.085963Z"
    },
    "papermill": {
     "duration": 0.119623,
     "end_time": "2021-09-02T08:57:20.916967",
     "exception": false,
     "start_time": "2021-09-02T08:57:20.797344",
     "status": "completed"
    },
    "tags": []
   },
   "outputs": [
    {
     "data": {
      "text/html": [
       "<div>\n",
       "<style scoped>\n",
       "    .dataframe tbody tr th:only-of-type {\n",
       "        vertical-align: middle;\n",
       "    }\n",
       "\n",
       "    .dataframe tbody tr th {\n",
       "        vertical-align: top;\n",
       "    }\n",
       "\n",
       "    .dataframe thead th {\n",
       "        text-align: right;\n",
       "    }\n",
       "</style>\n",
       "<table border=\"1\" class=\"dataframe\">\n",
       "  <thead>\n",
       "    <tr style=\"text-align: right;\">\n",
       "      <th></th>\n",
       "      <th>count</th>\n",
       "      <th>mean</th>\n",
       "      <th>std</th>\n",
       "      <th>min</th>\n",
       "      <th>25%</th>\n",
       "      <th>50%</th>\n",
       "      <th>75%</th>\n",
       "      <th>max</th>\n",
       "    </tr>\n",
       "  </thead>\n",
       "  <tbody>\n",
       "    <tr>\n",
       "      <th>Rooms</th>\n",
       "      <td>18.0</td>\n",
       "      <td>4.000000e+00</td>\n",
       "      <td>0.907485</td>\n",
       "      <td>3.000000e+00</td>\n",
       "      <td>3.000000e+00</td>\n",
       "      <td>4.000000e+00</td>\n",
       "      <td>4.750000e+00</td>\n",
       "      <td>6.000000e+00</td>\n",
       "    </tr>\n",
       "    <tr>\n",
       "      <th>Price</th>\n",
       "      <td>18.0</td>\n",
       "      <td>2.500000e+06</td>\n",
       "      <td>0.000000</td>\n",
       "      <td>2.500000e+06</td>\n",
       "      <td>2.500000e+06</td>\n",
       "      <td>2.500000e+06</td>\n",
       "      <td>2.500000e+06</td>\n",
       "      <td>2.500000e+06</td>\n",
       "    </tr>\n",
       "    <tr>\n",
       "      <th>Distance</th>\n",
       "      <td>18.0</td>\n",
       "      <td>8.216667e+00</td>\n",
       "      <td>3.231144</td>\n",
       "      <td>2.700000e+00</td>\n",
       "      <td>6.125000e+00</td>\n",
       "      <td>8.050000e+00</td>\n",
       "      <td>1.030000e+01</td>\n",
       "      <td>1.380000e+01</td>\n",
       "    </tr>\n",
       "    <tr>\n",
       "      <th>Postcode</th>\n",
       "      <td>18.0</td>\n",
       "      <td>3.139556e+03</td>\n",
       "      <td>54.584228</td>\n",
       "      <td>3.016000e+03</td>\n",
       "      <td>3.124750e+03</td>\n",
       "      <td>3.144500e+03</td>\n",
       "      <td>3.187000e+03</td>\n",
       "      <td>3.206000e+03</td>\n",
       "    </tr>\n",
       "    <tr>\n",
       "      <th>Bathroom</th>\n",
       "      <td>18.0</td>\n",
       "      <td>2.277778e+00</td>\n",
       "      <td>0.669113</td>\n",
       "      <td>1.000000e+00</td>\n",
       "      <td>2.000000e+00</td>\n",
       "      <td>2.000000e+00</td>\n",
       "      <td>3.000000e+00</td>\n",
       "      <td>3.000000e+00</td>\n",
       "    </tr>\n",
       "    <tr>\n",
       "      <th>Car</th>\n",
       "      <td>18.0</td>\n",
       "      <td>2.611111e+00</td>\n",
       "      <td>1.092159</td>\n",
       "      <td>1.000000e+00</td>\n",
       "      <td>2.000000e+00</td>\n",
       "      <td>2.000000e+00</td>\n",
       "      <td>3.000000e+00</td>\n",
       "      <td>5.000000e+00</td>\n",
       "    </tr>\n",
       "    <tr>\n",
       "      <th>Landsize</th>\n",
       "      <td>18.0</td>\n",
       "      <td>6.851426e+02</td>\n",
       "      <td>277.471096</td>\n",
       "      <td>1.650000e+02</td>\n",
       "      <td>5.374247e+02</td>\n",
       "      <td>6.670000e+02</td>\n",
       "      <td>8.452500e+02</td>\n",
       "      <td>1.212000e+03</td>\n",
       "    </tr>\n",
       "    <tr>\n",
       "      <th>BuildingArea</th>\n",
       "      <td>18.0</td>\n",
       "      <td>2.078477e+02</td>\n",
       "      <td>63.118462</td>\n",
       "      <td>1.100000e+02</td>\n",
       "      <td>1.539193e+02</td>\n",
       "      <td>2.025000e+02</td>\n",
       "      <td>2.520000e+02</td>\n",
       "      <td>3.290000e+02</td>\n",
       "    </tr>\n",
       "    <tr>\n",
       "      <th>YearBuilt</th>\n",
       "      <td>18.0</td>\n",
       "      <td>1.940222e+03</td>\n",
       "      <td>40.568831</td>\n",
       "      <td>1.880000e+03</td>\n",
       "      <td>1.920000e+03</td>\n",
       "      <td>1.927500e+03</td>\n",
       "      <td>1.966500e+03</td>\n",
       "      <td>2.008000e+03</td>\n",
       "    </tr>\n",
       "    <tr>\n",
       "      <th>Lattitude</th>\n",
       "      <td>18.0</td>\n",
       "      <td>-3.785755e+01</td>\n",
       "      <td>0.053320</td>\n",
       "      <td>-3.794360e+01</td>\n",
       "      <td>-3.790426e+01</td>\n",
       "      <td>-3.785469e+01</td>\n",
       "      <td>-3.782395e+01</td>\n",
       "      <td>-3.774570e+01</td>\n",
       "    </tr>\n",
       "    <tr>\n",
       "      <th>Longtitude</th>\n",
       "      <td>18.0</td>\n",
       "      <td>1.450175e+02</td>\n",
       "      <td>0.060594</td>\n",
       "      <td>1.448930e+02</td>\n",
       "      <td>1.450018e+02</td>\n",
       "      <td>1.450132e+02</td>\n",
       "      <td>1.450542e+02</td>\n",
       "      <td>1.451101e+02</td>\n",
       "    </tr>\n",
       "  </tbody>\n",
       "</table>\n",
       "</div>"
      ],
      "text/plain": [
       "              count          mean         std           min           25%  \\\n",
       "Rooms          18.0  4.000000e+00    0.907485  3.000000e+00  3.000000e+00   \n",
       "Price          18.0  2.500000e+06    0.000000  2.500000e+06  2.500000e+06   \n",
       "Distance       18.0  8.216667e+00    3.231144  2.700000e+00  6.125000e+00   \n",
       "Postcode       18.0  3.139556e+03   54.584228  3.016000e+03  3.124750e+03   \n",
       "Bathroom       18.0  2.277778e+00    0.669113  1.000000e+00  2.000000e+00   \n",
       "Car            18.0  2.611111e+00    1.092159  1.000000e+00  2.000000e+00   \n",
       "Landsize       18.0  6.851426e+02  277.471096  1.650000e+02  5.374247e+02   \n",
       "BuildingArea   18.0  2.078477e+02   63.118462  1.100000e+02  1.539193e+02   \n",
       "YearBuilt      18.0  1.940222e+03   40.568831  1.880000e+03  1.920000e+03   \n",
       "Lattitude      18.0 -3.785755e+01    0.053320 -3.794360e+01 -3.790426e+01   \n",
       "Longtitude     18.0  1.450175e+02    0.060594  1.448930e+02  1.450018e+02   \n",
       "\n",
       "                       50%           75%           max  \n",
       "Rooms         4.000000e+00  4.750000e+00  6.000000e+00  \n",
       "Price         2.500000e+06  2.500000e+06  2.500000e+06  \n",
       "Distance      8.050000e+00  1.030000e+01  1.380000e+01  \n",
       "Postcode      3.144500e+03  3.187000e+03  3.206000e+03  \n",
       "Bathroom      2.000000e+00  3.000000e+00  3.000000e+00  \n",
       "Car           2.000000e+00  3.000000e+00  5.000000e+00  \n",
       "Landsize      6.670000e+02  8.452500e+02  1.212000e+03  \n",
       "BuildingArea  2.025000e+02  2.520000e+02  3.290000e+02  \n",
       "YearBuilt     1.927500e+03  1.966500e+03  2.008000e+03  \n",
       "Lattitude    -3.785469e+01 -3.782395e+01 -3.774570e+01  \n",
       "Longtitude    1.450132e+02  1.450542e+02  1.451101e+02  "
      ]
     },
     "execution_count": 21,
     "metadata": {},
     "output_type": "execute_result"
    }
   ],
   "source": [
    "maxfence_price = data[data['Price']==2500000]\n",
    "maxfence_price.describe().T"
   ]
  },
  {
   "cell_type": "markdown",
   "id": "fd2ba76c",
   "metadata": {
    "papermill": {
     "duration": 0.06576,
     "end_time": "2021-09-02T08:57:21.049798",
     "exception": false,
     "start_time": "2021-09-02T08:57:20.984038",
     "status": "completed"
    },
    "tags": []
   },
   "source": [
    "**Notice** the outliers whose price are greater than 2.5M have no siginificant difference compare to value at max fence value\n",
    "\n",
    "As can be seen, an averge house at 2.5M dollar has the mean rooms of 4, bathroom of 2.27, Building Area of 2.07\n",
    "\n",
    "Mean while a higher price house, which is above 2.5M dollar has mean room of 4.2, bath rooms of 2.7, Building Area of 2.75\n",
    "\n",
    "Which a range price from 2.5M dollar to 8M dollar but there are no significant different features, so mainly from my own experience, the price is evaluated base on the location, which i can not examicated in this project. Thus, these outliers should be removed since they has no relevant"
   ]
  },
  {
   "cell_type": "code",
   "execution_count": 22,
   "id": "13f611bc",
   "metadata": {
    "execution": {
     "iopub.execute_input": "2021-09-02T08:57:21.188536Z",
     "iopub.status.busy": "2021-09-02T08:57:21.187849Z",
     "iopub.status.idle": "2021-09-02T08:57:21.244867Z",
     "shell.execute_reply": "2021-09-02T08:57:21.244390Z",
     "shell.execute_reply.started": "2021-09-02T08:52:56.130590Z"
    },
    "papermill": {
     "duration": 0.128627,
     "end_time": "2021-09-02T08:57:21.245004",
     "exception": false,
     "start_time": "2021-09-02T08:57:21.116377",
     "status": "completed"
    },
    "tags": []
   },
   "outputs": [
    {
     "name": "stdout",
     "output_type": "stream",
     "text": [
      "(15054, 17)\n"
     ]
    },
    {
     "data": {
      "text/html": [
       "<div>\n",
       "<style scoped>\n",
       "    .dataframe tbody tr th:only-of-type {\n",
       "        vertical-align: middle;\n",
       "    }\n",
       "\n",
       "    .dataframe tbody tr th {\n",
       "        vertical-align: top;\n",
       "    }\n",
       "\n",
       "    .dataframe thead th {\n",
       "        text-align: right;\n",
       "    }\n",
       "</style>\n",
       "<table border=\"1\" class=\"dataframe\">\n",
       "  <thead>\n",
       "    <tr style=\"text-align: right;\">\n",
       "      <th></th>\n",
       "      <th>count</th>\n",
       "      <th>mean</th>\n",
       "      <th>std</th>\n",
       "      <th>min</th>\n",
       "      <th>25%</th>\n",
       "      <th>50%</th>\n",
       "      <th>75%</th>\n",
       "      <th>max</th>\n",
       "    </tr>\n",
       "  </thead>\n",
       "  <tbody>\n",
       "    <tr>\n",
       "      <th>Rooms</th>\n",
       "      <td>15054.0</td>\n",
       "      <td>3.071742e+00</td>\n",
       "      <td>0.970313</td>\n",
       "      <td>1.00000</td>\n",
       "      <td>2.000000</td>\n",
       "      <td>3.000000e+00</td>\n",
       "      <td>4.000000e+00</td>\n",
       "      <td>1.200000e+01</td>\n",
       "    </tr>\n",
       "    <tr>\n",
       "      <th>Price</th>\n",
       "      <td>15054.0</td>\n",
       "      <td>1.006442e+06</td>\n",
       "      <td>420147.688626</td>\n",
       "      <td>85000.00000</td>\n",
       "      <td>691000.000000</td>\n",
       "      <td>1.065000e+06</td>\n",
       "      <td>1.115000e+06</td>\n",
       "      <td>2.500000e+06</td>\n",
       "    </tr>\n",
       "    <tr>\n",
       "      <th>Distance</th>\n",
       "      <td>15054.0</td>\n",
       "      <td>1.126009e+01</td>\n",
       "      <td>7.005150</td>\n",
       "      <td>0.00000</td>\n",
       "      <td>6.300000</td>\n",
       "      <td>1.020000e+01</td>\n",
       "      <td>1.400000e+01</td>\n",
       "      <td>4.810000e+01</td>\n",
       "    </tr>\n",
       "    <tr>\n",
       "      <th>Postcode</th>\n",
       "      <td>15054.0</td>\n",
       "      <td>3.116490e+03</td>\n",
       "      <td>116.730762</td>\n",
       "      <td>3000.00000</td>\n",
       "      <td>3046.000000</td>\n",
       "      <td>3.101000e+03</td>\n",
       "      <td>3.153000e+03</td>\n",
       "      <td>3.978000e+03</td>\n",
       "    </tr>\n",
       "    <tr>\n",
       "      <th>Bathroom</th>\n",
       "      <td>15054.0</td>\n",
       "      <td>1.636708e+00</td>\n",
       "      <td>0.703039</td>\n",
       "      <td>0.00000</td>\n",
       "      <td>1.000000</td>\n",
       "      <td>2.000000e+00</td>\n",
       "      <td>2.000000e+00</td>\n",
       "      <td>1.200000e+01</td>\n",
       "    </tr>\n",
       "    <tr>\n",
       "      <th>Car</th>\n",
       "      <td>15054.0</td>\n",
       "      <td>1.690049e+00</td>\n",
       "      <td>0.983210</td>\n",
       "      <td>0.00000</td>\n",
       "      <td>1.000000</td>\n",
       "      <td>2.000000e+00</td>\n",
       "      <td>2.000000e+00</td>\n",
       "      <td>2.600000e+01</td>\n",
       "    </tr>\n",
       "    <tr>\n",
       "      <th>Landsize</th>\n",
       "      <td>15054.0</td>\n",
       "      <td>5.248980e+02</td>\n",
       "      <td>1001.179185</td>\n",
       "      <td>0.00000</td>\n",
       "      <td>226.000000</td>\n",
       "      <td>5.315662e+02</td>\n",
       "      <td>6.310000e+02</td>\n",
       "      <td>4.280000e+04</td>\n",
       "    </tr>\n",
       "    <tr>\n",
       "      <th>BuildingArea</th>\n",
       "      <td>15054.0</td>\n",
       "      <td>1.499867e+02</td>\n",
       "      <td>74.665349</td>\n",
       "      <td>0.00000</td>\n",
       "      <td>107.000000</td>\n",
       "      <td>1.470000e+02</td>\n",
       "      <td>1.700000e+02</td>\n",
       "      <td>2.002000e+03</td>\n",
       "    </tr>\n",
       "    <tr>\n",
       "      <th>YearBuilt</th>\n",
       "      <td>15054.0</td>\n",
       "      <td>1.965886e+03</td>\n",
       "      <td>36.853088</td>\n",
       "      <td>1196.00000</td>\n",
       "      <td>1947.000000</td>\n",
       "      <td>1.970000e+03</td>\n",
       "      <td>2.000000e+03</td>\n",
       "      <td>2.106000e+03</td>\n",
       "    </tr>\n",
       "    <tr>\n",
       "      <th>Lattitude</th>\n",
       "      <td>15054.0</td>\n",
       "      <td>-3.780839e+01</td>\n",
       "      <td>0.091069</td>\n",
       "      <td>-38.19043</td>\n",
       "      <td>-37.861175</td>\n",
       "      <td>-3.780540e+01</td>\n",
       "      <td>-3.775285e+01</td>\n",
       "      <td>-3.739020e+01</td>\n",
       "    </tr>\n",
       "    <tr>\n",
       "      <th>Longtitude</th>\n",
       "      <td>15054.0</td>\n",
       "      <td>1.449980e+02</td>\n",
       "      <td>0.121250</td>\n",
       "      <td>144.42379</td>\n",
       "      <td>144.928400</td>\n",
       "      <td>1.450032e+02</td>\n",
       "      <td>1.450688e+02</td>\n",
       "      <td>1.455264e+02</td>\n",
       "    </tr>\n",
       "  </tbody>\n",
       "</table>\n",
       "</div>"
      ],
      "text/plain": [
       "                count          mean            std          min  \\\n",
       "Rooms         15054.0  3.071742e+00       0.970313      1.00000   \n",
       "Price         15054.0  1.006442e+06  420147.688626  85000.00000   \n",
       "Distance      15054.0  1.126009e+01       7.005150      0.00000   \n",
       "Postcode      15054.0  3.116490e+03     116.730762   3000.00000   \n",
       "Bathroom      15054.0  1.636708e+00       0.703039      0.00000   \n",
       "Car           15054.0  1.690049e+00       0.983210      0.00000   \n",
       "Landsize      15054.0  5.248980e+02    1001.179185      0.00000   \n",
       "BuildingArea  15054.0  1.499867e+02      74.665349      0.00000   \n",
       "YearBuilt     15054.0  1.965886e+03      36.853088   1196.00000   \n",
       "Lattitude     15054.0 -3.780839e+01       0.091069    -38.19043   \n",
       "Longtitude    15054.0  1.449980e+02       0.121250    144.42379   \n",
       "\n",
       "                        25%           50%           75%           max  \n",
       "Rooms              2.000000  3.000000e+00  4.000000e+00  1.200000e+01  \n",
       "Price         691000.000000  1.065000e+06  1.115000e+06  2.500000e+06  \n",
       "Distance           6.300000  1.020000e+01  1.400000e+01  4.810000e+01  \n",
       "Postcode        3046.000000  3.101000e+03  3.153000e+03  3.978000e+03  \n",
       "Bathroom           1.000000  2.000000e+00  2.000000e+00  1.200000e+01  \n",
       "Car                1.000000  2.000000e+00  2.000000e+00  2.600000e+01  \n",
       "Landsize         226.000000  5.315662e+02  6.310000e+02  4.280000e+04  \n",
       "BuildingArea     107.000000  1.470000e+02  1.700000e+02  2.002000e+03  \n",
       "YearBuilt       1947.000000  1.970000e+03  2.000000e+03  2.106000e+03  \n",
       "Lattitude        -37.861175 -3.780540e+01 -3.775285e+01 -3.739020e+01  \n",
       "Longtitude       144.928400  1.450032e+02  1.450688e+02  1.455264e+02  "
      ]
     },
     "execution_count": 22,
     "metadata": {},
     "output_type": "execute_result"
    }
   ],
   "source": [
    "#Remove item that has price that greater than 2.5M\n",
    "data = data[data['Price']<=2500000]\n",
    "print(data.shape)\n",
    "data.describe().T"
   ]
  },
  {
   "cell_type": "markdown",
   "id": "16dca8e5",
   "metadata": {
    "papermill": {
     "duration": 0.06583,
     "end_time": "2021-09-02T08:57:21.377719",
     "exception": false,
     "start_time": "2021-09-02T08:57:21.311889",
     "status": "completed"
    },
    "tags": []
   },
   "source": [
    "## One hot encoding dummies variables"
   ]
  },
  {
   "cell_type": "code",
   "execution_count": 23,
   "id": "bebac06d",
   "metadata": {
    "execution": {
     "iopub.execute_input": "2021-09-02T08:57:21.514137Z",
     "iopub.status.busy": "2021-09-02T08:57:21.513146Z",
     "iopub.status.idle": "2021-09-02T08:57:21.539823Z",
     "shell.execute_reply": "2021-09-02T08:57:21.539248Z",
     "shell.execute_reply.started": "2021-09-02T08:52:56.182581Z"
    },
    "papermill": {
     "duration": 0.09625,
     "end_time": "2021-09-02T08:57:21.539984",
     "exception": false,
     "start_time": "2021-09-02T08:57:21.443734",
     "status": "completed"
    },
    "tags": []
   },
   "outputs": [
    {
     "name": "stdout",
     "output_type": "stream",
     "text": [
      "<class 'pandas.core.frame.DataFrame'>\n",
      "Int64Index: 15054 entries, 2 to 34856\n",
      "Data columns (total 17 columns):\n",
      " #   Column        Non-Null Count  Dtype  \n",
      "---  ------        --------------  -----  \n",
      " 0   Suburb        15054 non-null  object \n",
      " 1   Rooms         15054 non-null  int64  \n",
      " 2   Type          15054 non-null  object \n",
      " 3   Price         15054 non-null  float64\n",
      " 4   Method        15054 non-null  object \n",
      " 5   Date          15054 non-null  object \n",
      " 6   Distance      15054 non-null  float64\n",
      " 7   Postcode      15054 non-null  float64\n",
      " 8   Bathroom      15054 non-null  float64\n",
      " 9   Car           15054 non-null  float64\n",
      " 10  Landsize      15054 non-null  float64\n",
      " 11  BuildingArea  15054 non-null  float64\n",
      " 12  YearBuilt     15054 non-null  float64\n",
      " 13  CouncilArea   15054 non-null  object \n",
      " 14  Lattitude     15054 non-null  float64\n",
      " 15  Longtitude    15054 non-null  float64\n",
      " 16  Regionname    15054 non-null  object \n",
      "dtypes: float64(10), int64(1), object(6)\n",
      "memory usage: 2.1+ MB\n"
     ]
    }
   ],
   "source": [
    "data.info()"
   ]
  },
  {
   "cell_type": "markdown",
   "id": "50708307",
   "metadata": {
    "papermill": {
     "duration": 0.066293,
     "end_time": "2021-09-02T08:57:21.675700",
     "exception": false,
     "start_time": "2021-09-02T08:57:21.609407",
     "status": "completed"
    },
    "tags": []
   },
   "source": [
    "## Linear Regression"
   ]
  },
  {
   "cell_type": "markdown",
   "id": "f9a945ec",
   "metadata": {
    "papermill": {
     "duration": 0.068359,
     "end_time": "2021-09-02T08:57:21.811181",
     "exception": false,
     "start_time": "2021-09-02T08:57:21.742822",
     "status": "completed"
    },
    "tags": []
   },
   "source": [
    "**Drop some variables that are considered to has no value to my further analysis**"
   ]
  },
  {
   "cell_type": "code",
   "execution_count": 24,
   "id": "f955f9e1",
   "metadata": {
    "execution": {
     "iopub.execute_input": "2021-09-02T08:57:21.951755Z",
     "iopub.status.busy": "2021-09-02T08:57:21.951050Z",
     "iopub.status.idle": "2021-09-02T08:57:21.973454Z",
     "shell.execute_reply": "2021-09-02T08:57:21.974034Z",
     "shell.execute_reply.started": "2021-09-02T08:52:56.202095Z"
    },
    "papermill": {
     "duration": 0.094666,
     "end_time": "2021-09-02T08:57:21.974224",
     "exception": false,
     "start_time": "2021-09-02T08:57:21.879558",
     "status": "completed"
    },
    "tags": []
   },
   "outputs": [
    {
     "name": "stdout",
     "output_type": "stream",
     "text": [
      "<class 'pandas.core.frame.DataFrame'>\n",
      "Int64Index: 15054 entries, 2 to 34856\n",
      "Data columns (total 13 columns):\n",
      " #   Column        Non-Null Count  Dtype  \n",
      "---  ------        --------------  -----  \n",
      " 0   Rooms         15054 non-null  int64  \n",
      " 1   Type          15054 non-null  object \n",
      " 2   Price         15054 non-null  float64\n",
      " 3   Method        15054 non-null  object \n",
      " 4   Distance      15054 non-null  float64\n",
      " 5   Bathroom      15054 non-null  float64\n",
      " 6   Car           15054 non-null  float64\n",
      " 7   Landsize      15054 non-null  float64\n",
      " 8   BuildingArea  15054 non-null  float64\n",
      " 9   CouncilArea   15054 non-null  object \n",
      " 10  Lattitude     15054 non-null  float64\n",
      " 11  Longtitude    15054 non-null  float64\n",
      " 12  Regionname    15054 non-null  object \n",
      "dtypes: float64(8), int64(1), object(4)\n",
      "memory usage: 1.6+ MB\n"
     ]
    }
   ],
   "source": [
    "##create new dataset\n",
    "\n",
    "new_data = data.copy()\n",
    "new_data.drop(['Date','Suburb','Postcode','YearBuilt'],axis = 1, inplace = True)\n",
    "new_data.info()"
   ]
  },
  {
   "cell_type": "markdown",
   "id": "c7e70c44",
   "metadata": {
    "papermill": {
     "duration": 0.066765,
     "end_time": "2021-09-02T08:57:22.107788",
     "exception": false,
     "start_time": "2021-09-02T08:57:22.041023",
     "status": "completed"
    },
    "tags": []
   },
   "source": [
    "**Split data**"
   ]
  },
  {
   "cell_type": "code",
   "execution_count": 25,
   "id": "61c13076",
   "metadata": {
    "execution": {
     "iopub.execute_input": "2021-09-02T08:57:22.246740Z",
     "iopub.status.busy": "2021-09-02T08:57:22.245952Z",
     "iopub.status.idle": "2021-09-02T08:57:22.263475Z",
     "shell.execute_reply": "2021-09-02T08:57:22.262962Z",
     "shell.execute_reply.started": "2021-09-02T08:52:56.223322Z"
    },
    "papermill": {
     "duration": 0.088264,
     "end_time": "2021-09-02T08:57:22.263616",
     "exception": false,
     "start_time": "2021-09-02T08:57:22.175352",
     "status": "completed"
    },
    "tags": []
   },
   "outputs": [
    {
     "name": "stdout",
     "output_type": "stream",
     "text": [
      "(15054, 4)\n"
     ]
    },
    {
     "data": {
      "text/html": [
       "<div>\n",
       "<style scoped>\n",
       "    .dataframe tbody tr th:only-of-type {\n",
       "        vertical-align: middle;\n",
       "    }\n",
       "\n",
       "    .dataframe tbody tr th {\n",
       "        vertical-align: top;\n",
       "    }\n",
       "\n",
       "    .dataframe thead th {\n",
       "        text-align: right;\n",
       "    }\n",
       "</style>\n",
       "<table border=\"1\" class=\"dataframe\">\n",
       "  <thead>\n",
       "    <tr style=\"text-align: right;\">\n",
       "      <th></th>\n",
       "      <th>Type</th>\n",
       "      <th>Method</th>\n",
       "      <th>CouncilArea</th>\n",
       "      <th>Regionname</th>\n",
       "    </tr>\n",
       "  </thead>\n",
       "  <tbody>\n",
       "    <tr>\n",
       "      <th>2</th>\n",
       "      <td>h</td>\n",
       "      <td>S</td>\n",
       "      <td>Yarra City Council</td>\n",
       "      <td>Northern Metropolitan</td>\n",
       "    </tr>\n",
       "    <tr>\n",
       "      <th>4</th>\n",
       "      <td>h</td>\n",
       "      <td>SP</td>\n",
       "      <td>Yarra City Council</td>\n",
       "      <td>Northern Metropolitan</td>\n",
       "    </tr>\n",
       "    <tr>\n",
       "      <th>6</th>\n",
       "      <td>h</td>\n",
       "      <td>VB</td>\n",
       "      <td>Yarra City Council</td>\n",
       "      <td>Northern Metropolitan</td>\n",
       "    </tr>\n",
       "    <tr>\n",
       "      <th>7</th>\n",
       "      <td>h</td>\n",
       "      <td>SN</td>\n",
       "      <td>Yarra City Council</td>\n",
       "      <td>Northern Metropolitan</td>\n",
       "    </tr>\n",
       "    <tr>\n",
       "      <th>8</th>\n",
       "      <td>h</td>\n",
       "      <td>S</td>\n",
       "      <td>Yarra City Council</td>\n",
       "      <td>Northern Metropolitan</td>\n",
       "    </tr>\n",
       "  </tbody>\n",
       "</table>\n",
       "</div>"
      ],
      "text/plain": [
       "  Type Method         CouncilArea             Regionname\n",
       "2    h      S  Yarra City Council  Northern Metropolitan\n",
       "4    h     SP  Yarra City Council  Northern Metropolitan\n",
       "6    h     VB  Yarra City Council  Northern Metropolitan\n",
       "7    h     SN  Yarra City Council  Northern Metropolitan\n",
       "8    h      S  Yarra City Council  Northern Metropolitan"
      ]
     },
     "execution_count": 25,
     "metadata": {},
     "output_type": "execute_result"
    }
   ],
   "source": [
    "one_hot_encode_cols = new_data.dtypes[new_data.dtypes ==np.object]\n",
    "one_hot_encode_cols = one_hot_encode_cols.index.tolist()\n",
    "\n",
    "print(new_data[one_hot_encode_cols].shape)\n",
    "new_data[one_hot_encode_cols].head()"
   ]
  },
  {
   "cell_type": "code",
   "execution_count": 26,
   "id": "bbbdf50a",
   "metadata": {
    "execution": {
     "iopub.execute_input": "2021-09-02T08:57:22.406369Z",
     "iopub.status.busy": "2021-09-02T08:57:22.405651Z",
     "iopub.status.idle": "2021-09-02T08:57:22.623682Z",
     "shell.execute_reply": "2021-09-02T08:57:22.624161Z",
     "shell.execute_reply.started": "2021-09-02T08:52:56.242451Z"
    },
    "papermill": {
     "duration": 0.291571,
     "end_time": "2021-09-02T08:57:22.624340",
     "exception": false,
     "start_time": "2021-09-02T08:57:22.332769",
     "status": "completed"
    },
    "tags": []
   },
   "outputs": [
    {
     "data": {
      "text/html": [
       "<div>\n",
       "<style scoped>\n",
       "    .dataframe tbody tr th:only-of-type {\n",
       "        vertical-align: middle;\n",
       "    }\n",
       "\n",
       "    .dataframe tbody tr th {\n",
       "        vertical-align: top;\n",
       "    }\n",
       "\n",
       "    .dataframe thead th {\n",
       "        text-align: right;\n",
       "    }\n",
       "</style>\n",
       "<table border=\"1\" class=\"dataframe\">\n",
       "  <thead>\n",
       "    <tr style=\"text-align: right;\">\n",
       "      <th></th>\n",
       "      <th>count</th>\n",
       "      <th>mean</th>\n",
       "      <th>std</th>\n",
       "      <th>min</th>\n",
       "      <th>25%</th>\n",
       "      <th>50%</th>\n",
       "      <th>75%</th>\n",
       "      <th>max</th>\n",
       "    </tr>\n",
       "  </thead>\n",
       "  <tbody>\n",
       "    <tr>\n",
       "      <th>Rooms</th>\n",
       "      <td>15054.0</td>\n",
       "      <td>3.071742e+00</td>\n",
       "      <td>0.970313</td>\n",
       "      <td>1.00000</td>\n",
       "      <td>2.000000</td>\n",
       "      <td>3.000000e+00</td>\n",
       "      <td>4.000000e+00</td>\n",
       "      <td>1.200000e+01</td>\n",
       "    </tr>\n",
       "    <tr>\n",
       "      <th>Price</th>\n",
       "      <td>15054.0</td>\n",
       "      <td>1.006442e+06</td>\n",
       "      <td>420147.688626</td>\n",
       "      <td>85000.00000</td>\n",
       "      <td>691000.000000</td>\n",
       "      <td>1.065000e+06</td>\n",
       "      <td>1.115000e+06</td>\n",
       "      <td>2.500000e+06</td>\n",
       "    </tr>\n",
       "    <tr>\n",
       "      <th>Distance</th>\n",
       "      <td>15054.0</td>\n",
       "      <td>1.126009e+01</td>\n",
       "      <td>7.005150</td>\n",
       "      <td>0.00000</td>\n",
       "      <td>6.300000</td>\n",
       "      <td>1.020000e+01</td>\n",
       "      <td>1.400000e+01</td>\n",
       "      <td>4.810000e+01</td>\n",
       "    </tr>\n",
       "    <tr>\n",
       "      <th>Bathroom</th>\n",
       "      <td>15054.0</td>\n",
       "      <td>1.636708e+00</td>\n",
       "      <td>0.703039</td>\n",
       "      <td>0.00000</td>\n",
       "      <td>1.000000</td>\n",
       "      <td>2.000000e+00</td>\n",
       "      <td>2.000000e+00</td>\n",
       "      <td>1.200000e+01</td>\n",
       "    </tr>\n",
       "    <tr>\n",
       "      <th>Car</th>\n",
       "      <td>15054.0</td>\n",
       "      <td>1.690049e+00</td>\n",
       "      <td>0.983210</td>\n",
       "      <td>0.00000</td>\n",
       "      <td>1.000000</td>\n",
       "      <td>2.000000e+00</td>\n",
       "      <td>2.000000e+00</td>\n",
       "      <td>2.600000e+01</td>\n",
       "    </tr>\n",
       "    <tr>\n",
       "      <th>Landsize</th>\n",
       "      <td>15054.0</td>\n",
       "      <td>5.248980e+02</td>\n",
       "      <td>1001.179185</td>\n",
       "      <td>0.00000</td>\n",
       "      <td>226.000000</td>\n",
       "      <td>5.315662e+02</td>\n",
       "      <td>6.310000e+02</td>\n",
       "      <td>4.280000e+04</td>\n",
       "    </tr>\n",
       "    <tr>\n",
       "      <th>BuildingArea</th>\n",
       "      <td>15054.0</td>\n",
       "      <td>1.499867e+02</td>\n",
       "      <td>74.665349</td>\n",
       "      <td>0.00000</td>\n",
       "      <td>107.000000</td>\n",
       "      <td>1.470000e+02</td>\n",
       "      <td>1.700000e+02</td>\n",
       "      <td>2.002000e+03</td>\n",
       "    </tr>\n",
       "    <tr>\n",
       "      <th>Lattitude</th>\n",
       "      <td>15054.0</td>\n",
       "      <td>-3.780839e+01</td>\n",
       "      <td>0.091069</td>\n",
       "      <td>-38.19043</td>\n",
       "      <td>-37.861175</td>\n",
       "      <td>-3.780540e+01</td>\n",
       "      <td>-3.775285e+01</td>\n",
       "      <td>-3.739020e+01</td>\n",
       "    </tr>\n",
       "    <tr>\n",
       "      <th>Longtitude</th>\n",
       "      <td>15054.0</td>\n",
       "      <td>1.449980e+02</td>\n",
       "      <td>0.121250</td>\n",
       "      <td>144.42379</td>\n",
       "      <td>144.928400</td>\n",
       "      <td>1.450032e+02</td>\n",
       "      <td>1.450688e+02</td>\n",
       "      <td>1.455264e+02</td>\n",
       "    </tr>\n",
       "    <tr>\n",
       "      <th>Type_t</th>\n",
       "      <td>15054.0</td>\n",
       "      <td>8.396439e-02</td>\n",
       "      <td>0.277344</td>\n",
       "      <td>0.00000</td>\n",
       "      <td>0.000000</td>\n",
       "      <td>0.000000e+00</td>\n",
       "      <td>0.000000e+00</td>\n",
       "      <td>1.000000e+00</td>\n",
       "    </tr>\n",
       "    <tr>\n",
       "      <th>Type_u</th>\n",
       "      <td>15054.0</td>\n",
       "      <td>1.873256e-01</td>\n",
       "      <td>0.390186</td>\n",
       "      <td>0.00000</td>\n",
       "      <td>0.000000</td>\n",
       "      <td>0.000000e+00</td>\n",
       "      <td>0.000000e+00</td>\n",
       "      <td>1.000000e+00</td>\n",
       "    </tr>\n",
       "    <tr>\n",
       "      <th>Method_PN</th>\n",
       "      <td>15054.0</td>\n",
       "      <td>9.698419e-03</td>\n",
       "      <td>0.098005</td>\n",
       "      <td>0.00000</td>\n",
       "      <td>0.000000</td>\n",
       "      <td>0.000000e+00</td>\n",
       "      <td>0.000000e+00</td>\n",
       "      <td>1.000000e+00</td>\n",
       "    </tr>\n",
       "    <tr>\n",
       "      <th>Method_S</th>\n",
       "      <td>15054.0</td>\n",
       "      <td>5.587219e-01</td>\n",
       "      <td>0.496556</td>\n",
       "      <td>0.00000</td>\n",
       "      <td>0.000000</td>\n",
       "      <td>1.000000e+00</td>\n",
       "      <td>1.000000e+00</td>\n",
       "      <td>1.000000e+00</td>\n",
       "    </tr>\n",
       "    <tr>\n",
       "      <th>Method_SA</th>\n",
       "      <td>15054.0</td>\n",
       "      <td>6.177760e-03</td>\n",
       "      <td>0.078358</td>\n",
       "      <td>0.00000</td>\n",
       "      <td>0.000000</td>\n",
       "      <td>0.000000e+00</td>\n",
       "      <td>0.000000e+00</td>\n",
       "      <td>1.000000e+00</td>\n",
       "    </tr>\n",
       "    <tr>\n",
       "      <th>Method_SN</th>\n",
       "      <td>15054.0</td>\n",
       "      <td>4.251362e-02</td>\n",
       "      <td>0.201765</td>\n",
       "      <td>0.00000</td>\n",
       "      <td>0.000000</td>\n",
       "      <td>0.000000e+00</td>\n",
       "      <td>0.000000e+00</td>\n",
       "      <td>1.000000e+00</td>\n",
       "    </tr>\n",
       "    <tr>\n",
       "      <th>Method_SP</th>\n",
       "      <td>15054.0</td>\n",
       "      <td>1.574997e-01</td>\n",
       "      <td>0.364283</td>\n",
       "      <td>0.00000</td>\n",
       "      <td>0.000000</td>\n",
       "      <td>0.000000e+00</td>\n",
       "      <td>0.000000e+00</td>\n",
       "      <td>1.000000e+00</td>\n",
       "    </tr>\n",
       "    <tr>\n",
       "      <th>Method_SS</th>\n",
       "      <td>15054.0</td>\n",
       "      <td>6.642753e-04</td>\n",
       "      <td>0.025766</td>\n",
       "      <td>0.00000</td>\n",
       "      <td>0.000000</td>\n",
       "      <td>0.000000e+00</td>\n",
       "      <td>0.000000e+00</td>\n",
       "      <td>1.000000e+00</td>\n",
       "    </tr>\n",
       "    <tr>\n",
       "      <th>Method_VB</th>\n",
       "      <td>15054.0</td>\n",
       "      <td>8.416368e-02</td>\n",
       "      <td>0.277642</td>\n",
       "      <td>0.00000</td>\n",
       "      <td>0.000000</td>\n",
       "      <td>0.000000e+00</td>\n",
       "      <td>0.000000e+00</td>\n",
       "      <td>1.000000e+00</td>\n",
       "    </tr>\n",
       "    <tr>\n",
       "      <th>Method_W</th>\n",
       "      <td>15054.0</td>\n",
       "      <td>5.447057e-03</td>\n",
       "      <td>0.073605</td>\n",
       "      <td>0.00000</td>\n",
       "      <td>0.000000</td>\n",
       "      <td>0.000000e+00</td>\n",
       "      <td>0.000000e+00</td>\n",
       "      <td>1.000000e+00</td>\n",
       "    </tr>\n",
       "    <tr>\n",
       "      <th>CouncilArea_Bayside City Council</th>\n",
       "      <td>15054.0</td>\n",
       "      <td>4.271290e-02</td>\n",
       "      <td>0.202216</td>\n",
       "      <td>0.00000</td>\n",
       "      <td>0.000000</td>\n",
       "      <td>0.000000e+00</td>\n",
       "      <td>0.000000e+00</td>\n",
       "      <td>1.000000e+00</td>\n",
       "    </tr>\n",
       "    <tr>\n",
       "      <th>CouncilArea_Boroondara City Council</th>\n",
       "      <td>15054.0</td>\n",
       "      <td>9.705062e-02</td>\n",
       "      <td>0.296037</td>\n",
       "      <td>0.00000</td>\n",
       "      <td>0.000000</td>\n",
       "      <td>0.000000e+00</td>\n",
       "      <td>0.000000e+00</td>\n",
       "      <td>1.000000e+00</td>\n",
       "    </tr>\n",
       "    <tr>\n",
       "      <th>CouncilArea_Brimbank City Council</th>\n",
       "      <td>15054.0</td>\n",
       "      <td>4.377574e-02</td>\n",
       "      <td>0.204603</td>\n",
       "      <td>0.00000</td>\n",
       "      <td>0.000000</td>\n",
       "      <td>0.000000e+00</td>\n",
       "      <td>0.000000e+00</td>\n",
       "      <td>1.000000e+00</td>\n",
       "    </tr>\n",
       "    <tr>\n",
       "      <th>CouncilArea_Cardinia Shire Council</th>\n",
       "      <td>15054.0</td>\n",
       "      <td>1.461406e-03</td>\n",
       "      <td>0.038202</td>\n",
       "      <td>0.00000</td>\n",
       "      <td>0.000000</td>\n",
       "      <td>0.000000e+00</td>\n",
       "      <td>0.000000e+00</td>\n",
       "      <td>1.000000e+00</td>\n",
       "    </tr>\n",
       "    <tr>\n",
       "      <th>CouncilArea_Casey City Council</th>\n",
       "      <td>15054.0</td>\n",
       "      <td>6.244188e-03</td>\n",
       "      <td>0.078776</td>\n",
       "      <td>0.00000</td>\n",
       "      <td>0.000000</td>\n",
       "      <td>0.000000e+00</td>\n",
       "      <td>0.000000e+00</td>\n",
       "      <td>1.000000e+00</td>\n",
       "    </tr>\n",
       "    <tr>\n",
       "      <th>CouncilArea_Darebin City Council</th>\n",
       "      <td>15054.0</td>\n",
       "      <td>7.865019e-02</td>\n",
       "      <td>0.269201</td>\n",
       "      <td>0.00000</td>\n",
       "      <td>0.000000</td>\n",
       "      <td>0.000000e+00</td>\n",
       "      <td>0.000000e+00</td>\n",
       "      <td>1.000000e+00</td>\n",
       "    </tr>\n",
       "    <tr>\n",
       "      <th>CouncilArea_Frankston City Council</th>\n",
       "      <td>15054.0</td>\n",
       "      <td>9.565564e-03</td>\n",
       "      <td>0.097338</td>\n",
       "      <td>0.00000</td>\n",
       "      <td>0.000000</td>\n",
       "      <td>0.000000e+00</td>\n",
       "      <td>0.000000e+00</td>\n",
       "      <td>1.000000e+00</td>\n",
       "    </tr>\n",
       "    <tr>\n",
       "      <th>CouncilArea_Glen Eira City Council</th>\n",
       "      <td>15054.0</td>\n",
       "      <td>5.559984e-02</td>\n",
       "      <td>0.229155</td>\n",
       "      <td>0.00000</td>\n",
       "      <td>0.000000</td>\n",
       "      <td>0.000000e+00</td>\n",
       "      <td>0.000000e+00</td>\n",
       "      <td>1.000000e+00</td>\n",
       "    </tr>\n",
       "    <tr>\n",
       "      <th>CouncilArea_Greater Dandenong City Council</th>\n",
       "      <td>15054.0</td>\n",
       "      <td>8.104158e-03</td>\n",
       "      <td>0.089661</td>\n",
       "      <td>0.00000</td>\n",
       "      <td>0.000000</td>\n",
       "      <td>0.000000e+00</td>\n",
       "      <td>0.000000e+00</td>\n",
       "      <td>1.000000e+00</td>\n",
       "    </tr>\n",
       "    <tr>\n",
       "      <th>CouncilArea_Hobsons Bay City Council</th>\n",
       "      <td>15054.0</td>\n",
       "      <td>2.809884e-02</td>\n",
       "      <td>0.165261</td>\n",
       "      <td>0.00000</td>\n",
       "      <td>0.000000</td>\n",
       "      <td>0.000000e+00</td>\n",
       "      <td>0.000000e+00</td>\n",
       "      <td>1.000000e+00</td>\n",
       "    </tr>\n",
       "    <tr>\n",
       "      <th>CouncilArea_Hume City Council</th>\n",
       "      <td>15054.0</td>\n",
       "      <td>4.091936e-02</td>\n",
       "      <td>0.198110</td>\n",
       "      <td>0.00000</td>\n",
       "      <td>0.000000</td>\n",
       "      <td>0.000000e+00</td>\n",
       "      <td>0.000000e+00</td>\n",
       "      <td>1.000000e+00</td>\n",
       "    </tr>\n",
       "    <tr>\n",
       "      <th>CouncilArea_Kingston City Council</th>\n",
       "      <td>15054.0</td>\n",
       "      <td>2.318321e-02</td>\n",
       "      <td>0.150490</td>\n",
       "      <td>0.00000</td>\n",
       "      <td>0.000000</td>\n",
       "      <td>0.000000e+00</td>\n",
       "      <td>0.000000e+00</td>\n",
       "      <td>1.000000e+00</td>\n",
       "    </tr>\n",
       "    <tr>\n",
       "      <th>CouncilArea_Knox City Council</th>\n",
       "      <td>15054.0</td>\n",
       "      <td>1.135911e-02</td>\n",
       "      <td>0.105976</td>\n",
       "      <td>0.00000</td>\n",
       "      <td>0.000000</td>\n",
       "      <td>0.000000e+00</td>\n",
       "      <td>0.000000e+00</td>\n",
       "      <td>1.000000e+00</td>\n",
       "    </tr>\n",
       "    <tr>\n",
       "      <th>CouncilArea_Macedon Ranges Shire Council</th>\n",
       "      <td>15054.0</td>\n",
       "      <td>1.195695e-03</td>\n",
       "      <td>0.034559</td>\n",
       "      <td>0.00000</td>\n",
       "      <td>0.000000</td>\n",
       "      <td>0.000000e+00</td>\n",
       "      <td>0.000000e+00</td>\n",
       "      <td>1.000000e+00</td>\n",
       "    </tr>\n",
       "    <tr>\n",
       "      <th>CouncilArea_Manningham City Council</th>\n",
       "      <td>15054.0</td>\n",
       "      <td>2.836455e-02</td>\n",
       "      <td>0.166018</td>\n",
       "      <td>0.00000</td>\n",
       "      <td>0.000000</td>\n",
       "      <td>0.000000e+00</td>\n",
       "      <td>0.000000e+00</td>\n",
       "      <td>1.000000e+00</td>\n",
       "    </tr>\n",
       "    <tr>\n",
       "      <th>CouncilArea_Maribyrnong City Council</th>\n",
       "      <td>15054.0</td>\n",
       "      <td>4.915637e-02</td>\n",
       "      <td>0.216202</td>\n",
       "      <td>0.00000</td>\n",
       "      <td>0.000000</td>\n",
       "      <td>0.000000e+00</td>\n",
       "      <td>0.000000e+00</td>\n",
       "      <td>1.000000e+00</td>\n",
       "    </tr>\n",
       "    <tr>\n",
       "      <th>CouncilArea_Maroondah City Council</th>\n",
       "      <td>15054.0</td>\n",
       "      <td>1.521190e-02</td>\n",
       "      <td>0.122399</td>\n",
       "      <td>0.00000</td>\n",
       "      <td>0.000000</td>\n",
       "      <td>0.000000e+00</td>\n",
       "      <td>0.000000e+00</td>\n",
       "      <td>1.000000e+00</td>\n",
       "    </tr>\n",
       "    <tr>\n",
       "      <th>CouncilArea_Melbourne City Council</th>\n",
       "      <td>15054.0</td>\n",
       "      <td>5.765909e-02</td>\n",
       "      <td>0.233105</td>\n",
       "      <td>0.00000</td>\n",
       "      <td>0.000000</td>\n",
       "      <td>0.000000e+00</td>\n",
       "      <td>0.000000e+00</td>\n",
       "      <td>1.000000e+00</td>\n",
       "    </tr>\n",
       "    <tr>\n",
       "      <th>CouncilArea_Melton City Council</th>\n",
       "      <td>15054.0</td>\n",
       "      <td>1.175767e-02</td>\n",
       "      <td>0.107797</td>\n",
       "      <td>0.00000</td>\n",
       "      <td>0.000000</td>\n",
       "      <td>0.000000e+00</td>\n",
       "      <td>0.000000e+00</td>\n",
       "      <td>1.000000e+00</td>\n",
       "    </tr>\n",
       "    <tr>\n",
       "      <th>CouncilArea_Mitchell Shire Council</th>\n",
       "      <td>15054.0</td>\n",
       "      <td>5.978477e-04</td>\n",
       "      <td>0.024444</td>\n",
       "      <td>0.00000</td>\n",
       "      <td>0.000000</td>\n",
       "      <td>0.000000e+00</td>\n",
       "      <td>0.000000e+00</td>\n",
       "      <td>1.000000e+00</td>\n",
       "    </tr>\n",
       "    <tr>\n",
       "      <th>CouncilArea_Monash City Council</th>\n",
       "      <td>15054.0</td>\n",
       "      <td>3.806297e-02</td>\n",
       "      <td>0.191355</td>\n",
       "      <td>0.00000</td>\n",
       "      <td>0.000000</td>\n",
       "      <td>0.000000e+00</td>\n",
       "      <td>0.000000e+00</td>\n",
       "      <td>1.000000e+00</td>\n",
       "    </tr>\n",
       "    <tr>\n",
       "      <th>CouncilArea_Moonee Valley City Council</th>\n",
       "      <td>15054.0</td>\n",
       "      <td>5.314202e-02</td>\n",
       "      <td>0.224324</td>\n",
       "      <td>0.00000</td>\n",
       "      <td>0.000000</td>\n",
       "      <td>0.000000e+00</td>\n",
       "      <td>0.000000e+00</td>\n",
       "      <td>1.000000e+00</td>\n",
       "    </tr>\n",
       "    <tr>\n",
       "      <th>CouncilArea_Moorabool Shire Council</th>\n",
       "      <td>15054.0</td>\n",
       "      <td>1.328551e-04</td>\n",
       "      <td>0.011526</td>\n",
       "      <td>0.00000</td>\n",
       "      <td>0.000000</td>\n",
       "      <td>0.000000e+00</td>\n",
       "      <td>0.000000e+00</td>\n",
       "      <td>1.000000e+00</td>\n",
       "    </tr>\n",
       "    <tr>\n",
       "      <th>CouncilArea_Moreland City Council</th>\n",
       "      <td>15054.0</td>\n",
       "      <td>6.543111e-02</td>\n",
       "      <td>0.247293</td>\n",
       "      <td>0.00000</td>\n",
       "      <td>0.000000</td>\n",
       "      <td>0.000000e+00</td>\n",
       "      <td>0.000000e+00</td>\n",
       "      <td>1.000000e+00</td>\n",
       "    </tr>\n",
       "    <tr>\n",
       "      <th>CouncilArea_Nillumbik Shire Council</th>\n",
       "      <td>15054.0</td>\n",
       "      <td>3.188521e-03</td>\n",
       "      <td>0.056379</td>\n",
       "      <td>0.00000</td>\n",
       "      <td>0.000000</td>\n",
       "      <td>0.000000e+00</td>\n",
       "      <td>0.000000e+00</td>\n",
       "      <td>1.000000e+00</td>\n",
       "    </tr>\n",
       "    <tr>\n",
       "      <th>CouncilArea_Port Phillip City Council</th>\n",
       "      <td>15054.0</td>\n",
       "      <td>3.879368e-02</td>\n",
       "      <td>0.193109</td>\n",
       "      <td>0.00000</td>\n",
       "      <td>0.000000</td>\n",
       "      <td>0.000000e+00</td>\n",
       "      <td>0.000000e+00</td>\n",
       "      <td>1.000000e+00</td>\n",
       "    </tr>\n",
       "    <tr>\n",
       "      <th>CouncilArea_Stonnington City Council</th>\n",
       "      <td>15054.0</td>\n",
       "      <td>3.733227e-02</td>\n",
       "      <td>0.189581</td>\n",
       "      <td>0.00000</td>\n",
       "      <td>0.000000</td>\n",
       "      <td>0.000000e+00</td>\n",
       "      <td>0.000000e+00</td>\n",
       "      <td>1.000000e+00</td>\n",
       "    </tr>\n",
       "    <tr>\n",
       "      <th>CouncilArea_Whitehorse City Council</th>\n",
       "      <td>15054.0</td>\n",
       "      <td>1.654045e-02</td>\n",
       "      <td>0.127546</td>\n",
       "      <td>0.00000</td>\n",
       "      <td>0.000000</td>\n",
       "      <td>0.000000e+00</td>\n",
       "      <td>0.000000e+00</td>\n",
       "      <td>1.000000e+00</td>\n",
       "    </tr>\n",
       "    <tr>\n",
       "      <th>CouncilArea_Whittlesea City Council</th>\n",
       "      <td>15054.0</td>\n",
       "      <td>2.637173e-02</td>\n",
       "      <td>0.160243</td>\n",
       "      <td>0.00000</td>\n",
       "      <td>0.000000</td>\n",
       "      <td>0.000000e+00</td>\n",
       "      <td>0.000000e+00</td>\n",
       "      <td>1.000000e+00</td>\n",
       "    </tr>\n",
       "    <tr>\n",
       "      <th>CouncilArea_Wyndham City Council</th>\n",
       "      <td>15054.0</td>\n",
       "      <td>2.059253e-02</td>\n",
       "      <td>0.142020</td>\n",
       "      <td>0.00000</td>\n",
       "      <td>0.000000</td>\n",
       "      <td>0.000000e+00</td>\n",
       "      <td>0.000000e+00</td>\n",
       "      <td>1.000000e+00</td>\n",
       "    </tr>\n",
       "    <tr>\n",
       "      <th>CouncilArea_Yarra City Council</th>\n",
       "      <td>15054.0</td>\n",
       "      <td>3.673442e-02</td>\n",
       "      <td>0.188115</td>\n",
       "      <td>0.00000</td>\n",
       "      <td>0.000000</td>\n",
       "      <td>0.000000e+00</td>\n",
       "      <td>0.000000e+00</td>\n",
       "      <td>1.000000e+00</td>\n",
       "    </tr>\n",
       "    <tr>\n",
       "      <th>CouncilArea_Yarra Ranges Shire Council</th>\n",
       "      <td>15054.0</td>\n",
       "      <td>2.657101e-03</td>\n",
       "      <td>0.051480</td>\n",
       "      <td>0.00000</td>\n",
       "      <td>0.000000</td>\n",
       "      <td>0.000000e+00</td>\n",
       "      <td>0.000000e+00</td>\n",
       "      <td>1.000000e+00</td>\n",
       "    </tr>\n",
       "    <tr>\n",
       "      <th>Regionname_Eastern Victoria</th>\n",
       "      <td>15054.0</td>\n",
       "      <td>6.842035e-03</td>\n",
       "      <td>0.082436</td>\n",
       "      <td>0.00000</td>\n",
       "      <td>0.000000</td>\n",
       "      <td>0.000000e+00</td>\n",
       "      <td>0.000000e+00</td>\n",
       "      <td>1.000000e+00</td>\n",
       "    </tr>\n",
       "    <tr>\n",
       "      <th>Regionname_Northern Metropolitan</th>\n",
       "      <td>15054.0</td>\n",
       "      <td>2.829148e-01</td>\n",
       "      <td>0.450430</td>\n",
       "      <td>0.00000</td>\n",
       "      <td>0.000000</td>\n",
       "      <td>0.000000e+00</td>\n",
       "      <td>1.000000e+00</td>\n",
       "      <td>1.000000e+00</td>\n",
       "    </tr>\n",
       "    <tr>\n",
       "      <th>Regionname_Northern Victoria</th>\n",
       "      <td>15054.0</td>\n",
       "      <td>7.307028e-03</td>\n",
       "      <td>0.085171</td>\n",
       "      <td>0.00000</td>\n",
       "      <td>0.000000</td>\n",
       "      <td>0.000000e+00</td>\n",
       "      <td>0.000000e+00</td>\n",
       "      <td>1.000000e+00</td>\n",
       "    </tr>\n",
       "    <tr>\n",
       "      <th>Regionname_South-Eastern Metropolitan</th>\n",
       "      <td>15054.0</td>\n",
       "      <td>4.835924e-02</td>\n",
       "      <td>0.214531</td>\n",
       "      <td>0.00000</td>\n",
       "      <td>0.000000</td>\n",
       "      <td>0.000000e+00</td>\n",
       "      <td>0.000000e+00</td>\n",
       "      <td>1.000000e+00</td>\n",
       "    </tr>\n",
       "    <tr>\n",
       "      <th>Regionname_Southern Metropolitan</th>\n",
       "      <td>15054.0</td>\n",
       "      <td>3.219078e-01</td>\n",
       "      <td>0.467223</td>\n",
       "      <td>0.00000</td>\n",
       "      <td>0.000000</td>\n",
       "      <td>0.000000e+00</td>\n",
       "      <td>1.000000e+00</td>\n",
       "      <td>1.000000e+00</td>\n",
       "    </tr>\n",
       "    <tr>\n",
       "      <th>Regionname_Western Metropolitan</th>\n",
       "      <td>15054.0</td>\n",
       "      <td>2.078517e-01</td>\n",
       "      <td>0.405784</td>\n",
       "      <td>0.00000</td>\n",
       "      <td>0.000000</td>\n",
       "      <td>0.000000e+00</td>\n",
       "      <td>0.000000e+00</td>\n",
       "      <td>1.000000e+00</td>\n",
       "    </tr>\n",
       "    <tr>\n",
       "      <th>Regionname_Western Victoria</th>\n",
       "      <td>15054.0</td>\n",
       "      <td>4.915637e-03</td>\n",
       "      <td>0.069941</td>\n",
       "      <td>0.00000</td>\n",
       "      <td>0.000000</td>\n",
       "      <td>0.000000e+00</td>\n",
       "      <td>0.000000e+00</td>\n",
       "      <td>1.000000e+00</td>\n",
       "    </tr>\n",
       "  </tbody>\n",
       "</table>\n",
       "</div>"
      ],
      "text/plain": [
       "                                              count          mean  \\\n",
       "Rooms                                       15054.0  3.071742e+00   \n",
       "Price                                       15054.0  1.006442e+06   \n",
       "Distance                                    15054.0  1.126009e+01   \n",
       "Bathroom                                    15054.0  1.636708e+00   \n",
       "Car                                         15054.0  1.690049e+00   \n",
       "Landsize                                    15054.0  5.248980e+02   \n",
       "BuildingArea                                15054.0  1.499867e+02   \n",
       "Lattitude                                   15054.0 -3.780839e+01   \n",
       "Longtitude                                  15054.0  1.449980e+02   \n",
       "Type_t                                      15054.0  8.396439e-02   \n",
       "Type_u                                      15054.0  1.873256e-01   \n",
       "Method_PN                                   15054.0  9.698419e-03   \n",
       "Method_S                                    15054.0  5.587219e-01   \n",
       "Method_SA                                   15054.0  6.177760e-03   \n",
       "Method_SN                                   15054.0  4.251362e-02   \n",
       "Method_SP                                   15054.0  1.574997e-01   \n",
       "Method_SS                                   15054.0  6.642753e-04   \n",
       "Method_VB                                   15054.0  8.416368e-02   \n",
       "Method_W                                    15054.0  5.447057e-03   \n",
       "CouncilArea_Bayside City Council            15054.0  4.271290e-02   \n",
       "CouncilArea_Boroondara City Council         15054.0  9.705062e-02   \n",
       "CouncilArea_Brimbank City Council           15054.0  4.377574e-02   \n",
       "CouncilArea_Cardinia Shire Council          15054.0  1.461406e-03   \n",
       "CouncilArea_Casey City Council              15054.0  6.244188e-03   \n",
       "CouncilArea_Darebin City Council            15054.0  7.865019e-02   \n",
       "CouncilArea_Frankston City Council          15054.0  9.565564e-03   \n",
       "CouncilArea_Glen Eira City Council          15054.0  5.559984e-02   \n",
       "CouncilArea_Greater Dandenong City Council  15054.0  8.104158e-03   \n",
       "CouncilArea_Hobsons Bay City Council        15054.0  2.809884e-02   \n",
       "CouncilArea_Hume City Council               15054.0  4.091936e-02   \n",
       "CouncilArea_Kingston City Council           15054.0  2.318321e-02   \n",
       "CouncilArea_Knox City Council               15054.0  1.135911e-02   \n",
       "CouncilArea_Macedon Ranges Shire Council    15054.0  1.195695e-03   \n",
       "CouncilArea_Manningham City Council         15054.0  2.836455e-02   \n",
       "CouncilArea_Maribyrnong City Council        15054.0  4.915637e-02   \n",
       "CouncilArea_Maroondah City Council          15054.0  1.521190e-02   \n",
       "CouncilArea_Melbourne City Council          15054.0  5.765909e-02   \n",
       "CouncilArea_Melton City Council             15054.0  1.175767e-02   \n",
       "CouncilArea_Mitchell Shire Council          15054.0  5.978477e-04   \n",
       "CouncilArea_Monash City Council             15054.0  3.806297e-02   \n",
       "CouncilArea_Moonee Valley City Council      15054.0  5.314202e-02   \n",
       "CouncilArea_Moorabool Shire Council         15054.0  1.328551e-04   \n",
       "CouncilArea_Moreland City Council           15054.0  6.543111e-02   \n",
       "CouncilArea_Nillumbik Shire Council         15054.0  3.188521e-03   \n",
       "CouncilArea_Port Phillip City Council       15054.0  3.879368e-02   \n",
       "CouncilArea_Stonnington City Council        15054.0  3.733227e-02   \n",
       "CouncilArea_Whitehorse City Council         15054.0  1.654045e-02   \n",
       "CouncilArea_Whittlesea City Council         15054.0  2.637173e-02   \n",
       "CouncilArea_Wyndham City Council            15054.0  2.059253e-02   \n",
       "CouncilArea_Yarra City Council              15054.0  3.673442e-02   \n",
       "CouncilArea_Yarra Ranges Shire Council      15054.0  2.657101e-03   \n",
       "Regionname_Eastern Victoria                 15054.0  6.842035e-03   \n",
       "Regionname_Northern Metropolitan            15054.0  2.829148e-01   \n",
       "Regionname_Northern Victoria                15054.0  7.307028e-03   \n",
       "Regionname_South-Eastern Metropolitan       15054.0  4.835924e-02   \n",
       "Regionname_Southern Metropolitan            15054.0  3.219078e-01   \n",
       "Regionname_Western Metropolitan             15054.0  2.078517e-01   \n",
       "Regionname_Western Victoria                 15054.0  4.915637e-03   \n",
       "\n",
       "                                                      std          min  \\\n",
       "Rooms                                            0.970313      1.00000   \n",
       "Price                                       420147.688626  85000.00000   \n",
       "Distance                                         7.005150      0.00000   \n",
       "Bathroom                                         0.703039      0.00000   \n",
       "Car                                              0.983210      0.00000   \n",
       "Landsize                                      1001.179185      0.00000   \n",
       "BuildingArea                                    74.665349      0.00000   \n",
       "Lattitude                                        0.091069    -38.19043   \n",
       "Longtitude                                       0.121250    144.42379   \n",
       "Type_t                                           0.277344      0.00000   \n",
       "Type_u                                           0.390186      0.00000   \n",
       "Method_PN                                        0.098005      0.00000   \n",
       "Method_S                                         0.496556      0.00000   \n",
       "Method_SA                                        0.078358      0.00000   \n",
       "Method_SN                                        0.201765      0.00000   \n",
       "Method_SP                                        0.364283      0.00000   \n",
       "Method_SS                                        0.025766      0.00000   \n",
       "Method_VB                                        0.277642      0.00000   \n",
       "Method_W                                         0.073605      0.00000   \n",
       "CouncilArea_Bayside City Council                 0.202216      0.00000   \n",
       "CouncilArea_Boroondara City Council              0.296037      0.00000   \n",
       "CouncilArea_Brimbank City Council                0.204603      0.00000   \n",
       "CouncilArea_Cardinia Shire Council               0.038202      0.00000   \n",
       "CouncilArea_Casey City Council                   0.078776      0.00000   \n",
       "CouncilArea_Darebin City Council                 0.269201      0.00000   \n",
       "CouncilArea_Frankston City Council               0.097338      0.00000   \n",
       "CouncilArea_Glen Eira City Council               0.229155      0.00000   \n",
       "CouncilArea_Greater Dandenong City Council       0.089661      0.00000   \n",
       "CouncilArea_Hobsons Bay City Council             0.165261      0.00000   \n",
       "CouncilArea_Hume City Council                    0.198110      0.00000   \n",
       "CouncilArea_Kingston City Council                0.150490      0.00000   \n",
       "CouncilArea_Knox City Council                    0.105976      0.00000   \n",
       "CouncilArea_Macedon Ranges Shire Council         0.034559      0.00000   \n",
       "CouncilArea_Manningham City Council              0.166018      0.00000   \n",
       "CouncilArea_Maribyrnong City Council             0.216202      0.00000   \n",
       "CouncilArea_Maroondah City Council               0.122399      0.00000   \n",
       "CouncilArea_Melbourne City Council               0.233105      0.00000   \n",
       "CouncilArea_Melton City Council                  0.107797      0.00000   \n",
       "CouncilArea_Mitchell Shire Council               0.024444      0.00000   \n",
       "CouncilArea_Monash City Council                  0.191355      0.00000   \n",
       "CouncilArea_Moonee Valley City Council           0.224324      0.00000   \n",
       "CouncilArea_Moorabool Shire Council              0.011526      0.00000   \n",
       "CouncilArea_Moreland City Council                0.247293      0.00000   \n",
       "CouncilArea_Nillumbik Shire Council              0.056379      0.00000   \n",
       "CouncilArea_Port Phillip City Council            0.193109      0.00000   \n",
       "CouncilArea_Stonnington City Council             0.189581      0.00000   \n",
       "CouncilArea_Whitehorse City Council              0.127546      0.00000   \n",
       "CouncilArea_Whittlesea City Council              0.160243      0.00000   \n",
       "CouncilArea_Wyndham City Council                 0.142020      0.00000   \n",
       "CouncilArea_Yarra City Council                   0.188115      0.00000   \n",
       "CouncilArea_Yarra Ranges Shire Council           0.051480      0.00000   \n",
       "Regionname_Eastern Victoria                      0.082436      0.00000   \n",
       "Regionname_Northern Metropolitan                 0.450430      0.00000   \n",
       "Regionname_Northern Victoria                     0.085171      0.00000   \n",
       "Regionname_South-Eastern Metropolitan            0.214531      0.00000   \n",
       "Regionname_Southern Metropolitan                 0.467223      0.00000   \n",
       "Regionname_Western Metropolitan                  0.405784      0.00000   \n",
       "Regionname_Western Victoria                      0.069941      0.00000   \n",
       "\n",
       "                                                      25%           50%  \\\n",
       "Rooms                                            2.000000  3.000000e+00   \n",
       "Price                                       691000.000000  1.065000e+06   \n",
       "Distance                                         6.300000  1.020000e+01   \n",
       "Bathroom                                         1.000000  2.000000e+00   \n",
       "Car                                              1.000000  2.000000e+00   \n",
       "Landsize                                       226.000000  5.315662e+02   \n",
       "BuildingArea                                   107.000000  1.470000e+02   \n",
       "Lattitude                                      -37.861175 -3.780540e+01   \n",
       "Longtitude                                     144.928400  1.450032e+02   \n",
       "Type_t                                           0.000000  0.000000e+00   \n",
       "Type_u                                           0.000000  0.000000e+00   \n",
       "Method_PN                                        0.000000  0.000000e+00   \n",
       "Method_S                                         0.000000  1.000000e+00   \n",
       "Method_SA                                        0.000000  0.000000e+00   \n",
       "Method_SN                                        0.000000  0.000000e+00   \n",
       "Method_SP                                        0.000000  0.000000e+00   \n",
       "Method_SS                                        0.000000  0.000000e+00   \n",
       "Method_VB                                        0.000000  0.000000e+00   \n",
       "Method_W                                         0.000000  0.000000e+00   \n",
       "CouncilArea_Bayside City Council                 0.000000  0.000000e+00   \n",
       "CouncilArea_Boroondara City Council              0.000000  0.000000e+00   \n",
       "CouncilArea_Brimbank City Council                0.000000  0.000000e+00   \n",
       "CouncilArea_Cardinia Shire Council               0.000000  0.000000e+00   \n",
       "CouncilArea_Casey City Council                   0.000000  0.000000e+00   \n",
       "CouncilArea_Darebin City Council                 0.000000  0.000000e+00   \n",
       "CouncilArea_Frankston City Council               0.000000  0.000000e+00   \n",
       "CouncilArea_Glen Eira City Council               0.000000  0.000000e+00   \n",
       "CouncilArea_Greater Dandenong City Council       0.000000  0.000000e+00   \n",
       "CouncilArea_Hobsons Bay City Council             0.000000  0.000000e+00   \n",
       "CouncilArea_Hume City Council                    0.000000  0.000000e+00   \n",
       "CouncilArea_Kingston City Council                0.000000  0.000000e+00   \n",
       "CouncilArea_Knox City Council                    0.000000  0.000000e+00   \n",
       "CouncilArea_Macedon Ranges Shire Council         0.000000  0.000000e+00   \n",
       "CouncilArea_Manningham City Council              0.000000  0.000000e+00   \n",
       "CouncilArea_Maribyrnong City Council             0.000000  0.000000e+00   \n",
       "CouncilArea_Maroondah City Council               0.000000  0.000000e+00   \n",
       "CouncilArea_Melbourne City Council               0.000000  0.000000e+00   \n",
       "CouncilArea_Melton City Council                  0.000000  0.000000e+00   \n",
       "CouncilArea_Mitchell Shire Council               0.000000  0.000000e+00   \n",
       "CouncilArea_Monash City Council                  0.000000  0.000000e+00   \n",
       "CouncilArea_Moonee Valley City Council           0.000000  0.000000e+00   \n",
       "CouncilArea_Moorabool Shire Council              0.000000  0.000000e+00   \n",
       "CouncilArea_Moreland City Council                0.000000  0.000000e+00   \n",
       "CouncilArea_Nillumbik Shire Council              0.000000  0.000000e+00   \n",
       "CouncilArea_Port Phillip City Council            0.000000  0.000000e+00   \n",
       "CouncilArea_Stonnington City Council             0.000000  0.000000e+00   \n",
       "CouncilArea_Whitehorse City Council              0.000000  0.000000e+00   \n",
       "CouncilArea_Whittlesea City Council              0.000000  0.000000e+00   \n",
       "CouncilArea_Wyndham City Council                 0.000000  0.000000e+00   \n",
       "CouncilArea_Yarra City Council                   0.000000  0.000000e+00   \n",
       "CouncilArea_Yarra Ranges Shire Council           0.000000  0.000000e+00   \n",
       "Regionname_Eastern Victoria                      0.000000  0.000000e+00   \n",
       "Regionname_Northern Metropolitan                 0.000000  0.000000e+00   \n",
       "Regionname_Northern Victoria                     0.000000  0.000000e+00   \n",
       "Regionname_South-Eastern Metropolitan            0.000000  0.000000e+00   \n",
       "Regionname_Southern Metropolitan                 0.000000  0.000000e+00   \n",
       "Regionname_Western Metropolitan                  0.000000  0.000000e+00   \n",
       "Regionname_Western Victoria                      0.000000  0.000000e+00   \n",
       "\n",
       "                                                     75%           max  \n",
       "Rooms                                       4.000000e+00  1.200000e+01  \n",
       "Price                                       1.115000e+06  2.500000e+06  \n",
       "Distance                                    1.400000e+01  4.810000e+01  \n",
       "Bathroom                                    2.000000e+00  1.200000e+01  \n",
       "Car                                         2.000000e+00  2.600000e+01  \n",
       "Landsize                                    6.310000e+02  4.280000e+04  \n",
       "BuildingArea                                1.700000e+02  2.002000e+03  \n",
       "Lattitude                                  -3.775285e+01 -3.739020e+01  \n",
       "Longtitude                                  1.450688e+02  1.455264e+02  \n",
       "Type_t                                      0.000000e+00  1.000000e+00  \n",
       "Type_u                                      0.000000e+00  1.000000e+00  \n",
       "Method_PN                                   0.000000e+00  1.000000e+00  \n",
       "Method_S                                    1.000000e+00  1.000000e+00  \n",
       "Method_SA                                   0.000000e+00  1.000000e+00  \n",
       "Method_SN                                   0.000000e+00  1.000000e+00  \n",
       "Method_SP                                   0.000000e+00  1.000000e+00  \n",
       "Method_SS                                   0.000000e+00  1.000000e+00  \n",
       "Method_VB                                   0.000000e+00  1.000000e+00  \n",
       "Method_W                                    0.000000e+00  1.000000e+00  \n",
       "CouncilArea_Bayside City Council            0.000000e+00  1.000000e+00  \n",
       "CouncilArea_Boroondara City Council         0.000000e+00  1.000000e+00  \n",
       "CouncilArea_Brimbank City Council           0.000000e+00  1.000000e+00  \n",
       "CouncilArea_Cardinia Shire Council          0.000000e+00  1.000000e+00  \n",
       "CouncilArea_Casey City Council              0.000000e+00  1.000000e+00  \n",
       "CouncilArea_Darebin City Council            0.000000e+00  1.000000e+00  \n",
       "CouncilArea_Frankston City Council          0.000000e+00  1.000000e+00  \n",
       "CouncilArea_Glen Eira City Council          0.000000e+00  1.000000e+00  \n",
       "CouncilArea_Greater Dandenong City Council  0.000000e+00  1.000000e+00  \n",
       "CouncilArea_Hobsons Bay City Council        0.000000e+00  1.000000e+00  \n",
       "CouncilArea_Hume City Council               0.000000e+00  1.000000e+00  \n",
       "CouncilArea_Kingston City Council           0.000000e+00  1.000000e+00  \n",
       "CouncilArea_Knox City Council               0.000000e+00  1.000000e+00  \n",
       "CouncilArea_Macedon Ranges Shire Council    0.000000e+00  1.000000e+00  \n",
       "CouncilArea_Manningham City Council         0.000000e+00  1.000000e+00  \n",
       "CouncilArea_Maribyrnong City Council        0.000000e+00  1.000000e+00  \n",
       "CouncilArea_Maroondah City Council          0.000000e+00  1.000000e+00  \n",
       "CouncilArea_Melbourne City Council          0.000000e+00  1.000000e+00  \n",
       "CouncilArea_Melton City Council             0.000000e+00  1.000000e+00  \n",
       "CouncilArea_Mitchell Shire Council          0.000000e+00  1.000000e+00  \n",
       "CouncilArea_Monash City Council             0.000000e+00  1.000000e+00  \n",
       "CouncilArea_Moonee Valley City Council      0.000000e+00  1.000000e+00  \n",
       "CouncilArea_Moorabool Shire Council         0.000000e+00  1.000000e+00  \n",
       "CouncilArea_Moreland City Council           0.000000e+00  1.000000e+00  \n",
       "CouncilArea_Nillumbik Shire Council         0.000000e+00  1.000000e+00  \n",
       "CouncilArea_Port Phillip City Council       0.000000e+00  1.000000e+00  \n",
       "CouncilArea_Stonnington City Council        0.000000e+00  1.000000e+00  \n",
       "CouncilArea_Whitehorse City Council         0.000000e+00  1.000000e+00  \n",
       "CouncilArea_Whittlesea City Council         0.000000e+00  1.000000e+00  \n",
       "CouncilArea_Wyndham City Council            0.000000e+00  1.000000e+00  \n",
       "CouncilArea_Yarra City Council              0.000000e+00  1.000000e+00  \n",
       "CouncilArea_Yarra Ranges Shire Council      0.000000e+00  1.000000e+00  \n",
       "Regionname_Eastern Victoria                 0.000000e+00  1.000000e+00  \n",
       "Regionname_Northern Metropolitan            1.000000e+00  1.000000e+00  \n",
       "Regionname_Northern Victoria                0.000000e+00  1.000000e+00  \n",
       "Regionname_South-Eastern Metropolitan       0.000000e+00  1.000000e+00  \n",
       "Regionname_Southern Metropolitan            1.000000e+00  1.000000e+00  \n",
       "Regionname_Western Metropolitan             0.000000e+00  1.000000e+00  \n",
       "Regionname_Western Victoria                 0.000000e+00  1.000000e+00  "
      ]
     },
     "execution_count": 26,
     "metadata": {},
     "output_type": "execute_result"
    }
   ],
   "source": [
    "new_data = pd.get_dummies(new_data, columns = one_hot_encode_cols, drop_first = True)\n",
    "new_data.describe().T"
   ]
  },
  {
   "cell_type": "markdown",
   "id": "4712ff5d",
   "metadata": {
    "papermill": {
     "duration": 0.069779,
     "end_time": "2021-09-02T08:57:22.765491",
     "exception": false,
     "start_time": "2021-09-02T08:57:22.695712",
     "status": "completed"
    },
    "tags": []
   },
   "source": [
    "## Model Selection"
   ]
  },
  {
   "cell_type": "code",
   "execution_count": 27,
   "id": "1eed93a0",
   "metadata": {
    "execution": {
     "iopub.execute_input": "2021-09-02T08:57:22.911928Z",
     "iopub.status.busy": "2021-09-02T08:57:22.911214Z",
     "iopub.status.idle": "2021-09-02T08:57:23.100575Z",
     "shell.execute_reply": "2021-09-02T08:57:23.099787Z",
     "shell.execute_reply.started": "2021-09-02T08:52:56.414540Z"
    },
    "papermill": {
     "duration": 0.264058,
     "end_time": "2021-09-02T08:57:23.100734",
     "exception": false,
     "start_time": "2021-09-02T08:57:22.836676",
     "status": "completed"
    },
    "tags": []
   },
   "outputs": [],
   "source": [
    "#import regression libraries\n",
    "from sklearn import preprocessing \n",
    "\n",
    "from sklearn.model_selection import train_test_split\n",
    "\n",
    "from sklearn.linear_model import LinearRegression, Ridge, Lasso\n",
    "from sklearn.metrics import r2_score\n",
    "from sklearn.preprocessing import StandardScaler, PolynomialFeatures\n",
    "from sklearn.model_selection import KFold, cross_val_predict\n"
   ]
  },
  {
   "cell_type": "code",
   "execution_count": 28,
   "id": "158a4792",
   "metadata": {
    "execution": {
     "iopub.execute_input": "2021-09-02T08:57:23.248194Z",
     "iopub.status.busy": "2021-09-02T08:57:23.247450Z",
     "iopub.status.idle": "2021-09-02T08:57:23.273973Z",
     "shell.execute_reply": "2021-09-02T08:57:23.274507Z",
     "shell.execute_reply.started": "2021-09-02T08:52:56.420506Z"
    },
    "papermill": {
     "duration": 0.103597,
     "end_time": "2021-09-02T08:57:23.274683",
     "exception": false,
     "start_time": "2021-09-02T08:57:23.171086",
     "status": "completed"
    },
    "tags": []
   },
   "outputs": [
    {
     "data": {
      "text/html": [
       "<div>\n",
       "<style scoped>\n",
       "    .dataframe tbody tr th:only-of-type {\n",
       "        vertical-align: middle;\n",
       "    }\n",
       "\n",
       "    .dataframe tbody tr th {\n",
       "        vertical-align: top;\n",
       "    }\n",
       "\n",
       "    .dataframe thead th {\n",
       "        text-align: right;\n",
       "    }\n",
       "</style>\n",
       "<table border=\"1\" class=\"dataframe\">\n",
       "  <thead>\n",
       "    <tr style=\"text-align: right;\">\n",
       "      <th></th>\n",
       "      <th>Rooms</th>\n",
       "      <th>Distance</th>\n",
       "      <th>Bathroom</th>\n",
       "      <th>Car</th>\n",
       "      <th>Landsize</th>\n",
       "      <th>BuildingArea</th>\n",
       "      <th>Lattitude</th>\n",
       "      <th>Longtitude</th>\n",
       "      <th>Type_t</th>\n",
       "      <th>Type_u</th>\n",
       "      <th>...</th>\n",
       "      <th>CouncilArea_Wyndham City Council</th>\n",
       "      <th>CouncilArea_Yarra City Council</th>\n",
       "      <th>CouncilArea_Yarra Ranges Shire Council</th>\n",
       "      <th>Regionname_Eastern Victoria</th>\n",
       "      <th>Regionname_Northern Metropolitan</th>\n",
       "      <th>Regionname_Northern Victoria</th>\n",
       "      <th>Regionname_South-Eastern Metropolitan</th>\n",
       "      <th>Regionname_Southern Metropolitan</th>\n",
       "      <th>Regionname_Western Metropolitan</th>\n",
       "      <th>Regionname_Western Victoria</th>\n",
       "    </tr>\n",
       "  </thead>\n",
       "  <tbody>\n",
       "    <tr>\n",
       "      <th>2</th>\n",
       "      <td>2</td>\n",
       "      <td>2.5</td>\n",
       "      <td>1.0</td>\n",
       "      <td>0.0</td>\n",
       "      <td>156.0</td>\n",
       "      <td>79.000000</td>\n",
       "      <td>-37.8079</td>\n",
       "      <td>144.9934</td>\n",
       "      <td>0</td>\n",
       "      <td>0</td>\n",
       "      <td>...</td>\n",
       "      <td>0</td>\n",
       "      <td>1</td>\n",
       "      <td>0</td>\n",
       "      <td>0</td>\n",
       "      <td>1</td>\n",
       "      <td>0</td>\n",
       "      <td>0</td>\n",
       "      <td>0</td>\n",
       "      <td>0</td>\n",
       "      <td>0</td>\n",
       "    </tr>\n",
       "    <tr>\n",
       "      <th>4</th>\n",
       "      <td>3</td>\n",
       "      <td>2.5</td>\n",
       "      <td>2.0</td>\n",
       "      <td>0.0</td>\n",
       "      <td>134.0</td>\n",
       "      <td>150.000000</td>\n",
       "      <td>-37.8093</td>\n",
       "      <td>144.9944</td>\n",
       "      <td>0</td>\n",
       "      <td>0</td>\n",
       "      <td>...</td>\n",
       "      <td>0</td>\n",
       "      <td>1</td>\n",
       "      <td>0</td>\n",
       "      <td>0</td>\n",
       "      <td>1</td>\n",
       "      <td>0</td>\n",
       "      <td>0</td>\n",
       "      <td>0</td>\n",
       "      <td>0</td>\n",
       "      <td>0</td>\n",
       "    </tr>\n",
       "    <tr>\n",
       "      <th>6</th>\n",
       "      <td>4</td>\n",
       "      <td>2.5</td>\n",
       "      <td>1.0</td>\n",
       "      <td>2.0</td>\n",
       "      <td>120.0</td>\n",
       "      <td>142.000000</td>\n",
       "      <td>-37.8072</td>\n",
       "      <td>144.9941</td>\n",
       "      <td>0</td>\n",
       "      <td>0</td>\n",
       "      <td>...</td>\n",
       "      <td>0</td>\n",
       "      <td>1</td>\n",
       "      <td>0</td>\n",
       "      <td>0</td>\n",
       "      <td>1</td>\n",
       "      <td>0</td>\n",
       "      <td>0</td>\n",
       "      <td>0</td>\n",
       "      <td>0</td>\n",
       "      <td>0</td>\n",
       "    </tr>\n",
       "    <tr>\n",
       "      <th>7</th>\n",
       "      <td>4</td>\n",
       "      <td>2.5</td>\n",
       "      <td>2.0</td>\n",
       "      <td>2.0</td>\n",
       "      <td>400.0</td>\n",
       "      <td>220.000000</td>\n",
       "      <td>-37.7965</td>\n",
       "      <td>144.9965</td>\n",
       "      <td>0</td>\n",
       "      <td>0</td>\n",
       "      <td>...</td>\n",
       "      <td>0</td>\n",
       "      <td>1</td>\n",
       "      <td>0</td>\n",
       "      <td>0</td>\n",
       "      <td>1</td>\n",
       "      <td>0</td>\n",
       "      <td>0</td>\n",
       "      <td>0</td>\n",
       "      <td>0</td>\n",
       "      <td>0</td>\n",
       "    </tr>\n",
       "    <tr>\n",
       "      <th>8</th>\n",
       "      <td>2</td>\n",
       "      <td>2.5</td>\n",
       "      <td>1.0</td>\n",
       "      <td>2.0</td>\n",
       "      <td>201.0</td>\n",
       "      <td>153.919348</td>\n",
       "      <td>-37.7995</td>\n",
       "      <td>144.9974</td>\n",
       "      <td>0</td>\n",
       "      <td>0</td>\n",
       "      <td>...</td>\n",
       "      <td>0</td>\n",
       "      <td>1</td>\n",
       "      <td>0</td>\n",
       "      <td>0</td>\n",
       "      <td>1</td>\n",
       "      <td>0</td>\n",
       "      <td>0</td>\n",
       "      <td>0</td>\n",
       "      <td>0</td>\n",
       "      <td>0</td>\n",
       "    </tr>\n",
       "  </tbody>\n",
       "</table>\n",
       "<p>5 rows × 57 columns</p>\n",
       "</div>"
      ],
      "text/plain": [
       "   Rooms  Distance  Bathroom  Car  Landsize  BuildingArea  Lattitude  \\\n",
       "2      2       2.5       1.0  0.0     156.0     79.000000   -37.8079   \n",
       "4      3       2.5       2.0  0.0     134.0    150.000000   -37.8093   \n",
       "6      4       2.5       1.0  2.0     120.0    142.000000   -37.8072   \n",
       "7      4       2.5       2.0  2.0     400.0    220.000000   -37.7965   \n",
       "8      2       2.5       1.0  2.0     201.0    153.919348   -37.7995   \n",
       "\n",
       "   Longtitude  Type_t  Type_u  ...  CouncilArea_Wyndham City Council  \\\n",
       "2    144.9934       0       0  ...                                 0   \n",
       "4    144.9944       0       0  ...                                 0   \n",
       "6    144.9941       0       0  ...                                 0   \n",
       "7    144.9965       0       0  ...                                 0   \n",
       "8    144.9974       0       0  ...                                 0   \n",
       "\n",
       "   CouncilArea_Yarra City Council  CouncilArea_Yarra Ranges Shire Council  \\\n",
       "2                               1                                       0   \n",
       "4                               1                                       0   \n",
       "6                               1                                       0   \n",
       "7                               1                                       0   \n",
       "8                               1                                       0   \n",
       "\n",
       "   Regionname_Eastern Victoria  Regionname_Northern Metropolitan  \\\n",
       "2                            0                                 1   \n",
       "4                            0                                 1   \n",
       "6                            0                                 1   \n",
       "7                            0                                 1   \n",
       "8                            0                                 1   \n",
       "\n",
       "   Regionname_Northern Victoria  Regionname_South-Eastern Metropolitan  \\\n",
       "2                             0                                      0   \n",
       "4                             0                                      0   \n",
       "6                             0                                      0   \n",
       "7                             0                                      0   \n",
       "8                             0                                      0   \n",
       "\n",
       "   Regionname_Southern Metropolitan  Regionname_Western Metropolitan  \\\n",
       "2                                 0                                0   \n",
       "4                                 0                                0   \n",
       "6                                 0                                0   \n",
       "7                                 0                                0   \n",
       "8                                 0                                0   \n",
       "\n",
       "   Regionname_Western Victoria  \n",
       "2                            0  \n",
       "4                            0  \n",
       "6                            0  \n",
       "7                            0  \n",
       "8                            0  \n",
       "\n",
       "[5 rows x 57 columns]"
      ]
     },
     "execution_count": 28,
     "metadata": {},
     "output_type": "execute_result"
    }
   ],
   "source": [
    "X = new_data.drop('Price', axis=1)\n",
    "y = new_data.Price\n",
    "X.head()"
   ]
  },
  {
   "cell_type": "code",
   "execution_count": 29,
   "id": "1a01600a",
   "metadata": {
    "execution": {
     "iopub.execute_input": "2021-09-02T08:57:23.419365Z",
     "iopub.status.busy": "2021-09-02T08:57:23.418618Z",
     "iopub.status.idle": "2021-09-02T08:57:23.430762Z",
     "shell.execute_reply": "2021-09-02T08:57:23.431285Z",
     "shell.execute_reply.started": "2021-09-02T08:52:56.460385Z"
    },
    "papermill": {
     "duration": 0.085805,
     "end_time": "2021-09-02T08:57:23.431461",
     "exception": false,
     "start_time": "2021-09-02T08:57:23.345656",
     "status": "completed"
    },
    "tags": []
   },
   "outputs": [
    {
     "name": "stdout",
     "output_type": "stream",
     "text": [
      "Train index [ 0  2  4  5  8 10 11 12 13 15] 10036\n",
      "Test Index [ 1  3  6  7  9 14 16 18 22 27] 5018\n",
      "\n",
      "Train index [ 0  1  2  3  4  6  7  8  9 10] 10036\n",
      "Test Index [ 5 11 13 15 17 21 24 25 26 34] 5018\n",
      "\n",
      "Train index [ 1  3  5  6  7  9 11 13 14 15] 10036\n",
      "Test Index [ 0  2  4  8 10 12 19 20 23 28] 5018\n",
      "\n"
     ]
    }
   ],
   "source": [
    "kf= KFold(shuffle=True, random_state=72018, n_splits=3)\n",
    "\n",
    "for train_index, test_index in kf.split(X):\n",
    "    print('Train index', train_index[:10],len(train_index))\n",
    "    print('Test Index',test_index[:10], len(test_index))\n",
    "    print('')"
   ]
  },
  {
   "cell_type": "markdown",
   "id": "659af206",
   "metadata": {
    "papermill": {
     "duration": 0.07145,
     "end_time": "2021-09-02T08:57:23.574411",
     "exception": false,
     "start_time": "2021-09-02T08:57:23.502961",
     "status": "completed"
    },
    "tags": []
   },
   "source": [
    "**Fitting Linear Regression with K-fold Cross Validation**"
   ]
  },
  {
   "cell_type": "code",
   "execution_count": 30,
   "id": "5e77c00b",
   "metadata": {
    "execution": {
     "iopub.execute_input": "2021-09-02T08:57:23.726555Z",
     "iopub.status.busy": "2021-09-02T08:57:23.725480Z",
     "iopub.status.idle": "2021-09-02T08:57:24.180667Z",
     "shell.execute_reply": "2021-09-02T08:57:24.181510Z",
     "shell.execute_reply.started": "2021-09-02T08:52:56.473178Z"
    },
    "papermill": {
     "duration": 0.535227,
     "end_time": "2021-09-02T08:57:24.181772",
     "exception": false,
     "start_time": "2021-09-02T08:57:23.646545",
     "status": "completed"
    },
    "tags": []
   },
   "outputs": [
    {
     "data": {
      "text/plain": [
       "[0.5180370828271249, 0.5046688824093211, 0.5158275164086965]"
      ]
     },
     "execution_count": 30,
     "metadata": {},
     "output_type": "execute_result"
    }
   ],
   "source": [
    "scores=[]\n",
    "\n",
    "lr=LinearRegression()\n",
    "s= StandardScaler()\n",
    "\n",
    "for train_index, test_index in kf.split(X):\n",
    "    X_train,X_test, y_train,y_test = (X.iloc[train_index,:],\n",
    "                                      X.iloc[test_index,:],\n",
    "                                      y.iloc[train_index],\n",
    "                                      y.iloc[test_index])\n",
    "    #print(X_train.shape)\n",
    "    #print(y_train.shape)\n",
    "    X_train_s=s.fit_transform(X_train)\n",
    "    \n",
    "    lr.fit(X_train,y_train)\n",
    "    \n",
    "    X_test_s=s.fit_transform(X_test)\n",
    "    \n",
    "    y_pred = lr.predict(X_test)\n",
    "    \n",
    "    score = r2_score(y_test.values,y_pred)\n",
    "    \n",
    "    scores.append(score)\n",
    "    \n",
    "scores\n",
    "    "
   ]
  },
  {
   "cell_type": "code",
   "execution_count": 31,
   "id": "a7ed03fa",
   "metadata": {
    "execution": {
     "iopub.execute_input": "2021-09-02T08:57:24.388478Z",
     "iopub.status.busy": "2021-09-02T08:57:24.387608Z",
     "iopub.status.idle": "2021-09-02T08:57:24.390939Z",
     "shell.execute_reply": "2021-09-02T08:57:24.391480Z",
     "shell.execute_reply.started": "2021-09-02T08:52:56.744647Z"
    },
    "papermill": {
     "duration": 0.08118,
     "end_time": "2021-09-02T08:57:24.391659",
     "exception": false,
     "start_time": "2021-09-02T08:57:24.310479",
     "status": "completed"
    },
    "tags": []
   },
   "outputs": [
    {
     "data": {
      "text/plain": [
       "0.5128444938817142"
      ]
     },
     "execution_count": 31,
     "metadata": {},
     "output_type": "execute_result"
    }
   ],
   "source": [
    "np.mean(scores)"
   ]
  },
  {
   "cell_type": "markdown",
   "id": "31d4b9c4",
   "metadata": {
    "papermill": {
     "duration": 0.0716,
     "end_time": "2021-09-02T08:57:24.534644",
     "exception": false,
     "start_time": "2021-09-02T08:57:24.463044",
     "status": "completed"
    },
    "tags": []
   },
   "source": [
    "## Ridge Regression with GridSearch"
   ]
  },
  {
   "cell_type": "code",
   "execution_count": 32,
   "id": "deb7a672",
   "metadata": {
    "execution": {
     "iopub.execute_input": "2021-09-02T08:57:24.686871Z",
     "iopub.status.busy": "2021-09-02T08:57:24.685847Z",
     "iopub.status.idle": "2021-09-02T08:57:24.691805Z",
     "shell.execute_reply": "2021-09-02T08:57:24.692366Z",
     "shell.execute_reply.started": "2021-09-02T08:52:56.755003Z"
    },
    "papermill": {
     "duration": 0.085325,
     "end_time": "2021-09-02T08:57:24.692582",
     "exception": false,
     "start_time": "2021-09-02T08:57:24.607257",
     "status": "completed"
    },
    "tags": []
   },
   "outputs": [],
   "source": [
    "from sklearn.model_selection import GridSearchCV\n",
    "from sklearn.pipeline import Pipeline\n",
    "\n",
    "estimator = Pipeline([(\"scaler\", StandardScaler()),\n",
    "        (\"polynomial_features\", PolynomialFeatures()),\n",
    "        (\"ridge_regression\", Ridge())])\n",
    "\n",
    "hparams = {\n",
    "    'polynomial_features__degree': [1, 2],\n",
    "    'ridge_regression__alpha': np.geomspace(4, 20, 20)\n",
    "}\n",
    "\n",
    "grid = GridSearchCV(estimator, hparams, cv=kf)"
   ]
  },
  {
   "cell_type": "code",
   "execution_count": 33,
   "id": "e24b3fc4",
   "metadata": {
    "execution": {
     "iopub.execute_input": "2021-09-02T08:57:24.841494Z",
     "iopub.status.busy": "2021-09-02T08:57:24.840475Z",
     "iopub.status.idle": "2021-09-02T08:58:21.577430Z",
     "shell.execute_reply": "2021-09-02T08:58:21.577951Z",
     "shell.execute_reply.started": "2021-09-02T08:52:56.776945Z"
    },
    "papermill": {
     "duration": 56.813155,
     "end_time": "2021-09-02T08:58:21.578154",
     "exception": false,
     "start_time": "2021-09-02T08:57:24.764999",
     "status": "completed"
    },
    "tags": []
   },
   "outputs": [
    {
     "name": "stdout",
     "output_type": "stream",
     "text": [
      "0.5129514253400561\n",
      "{'polynomial_features__degree': 1, 'ridge_regression__alpha': 20.000000000000004}\n"
     ]
    }
   ],
   "source": [
    "grid.fit(X,y)\n",
    "print(grid.best_score_)\n",
    "print(grid.best_params_)"
   ]
  },
  {
   "cell_type": "code",
   "execution_count": 34,
   "id": "31250382",
   "metadata": {
    "execution": {
     "iopub.execute_input": "2021-09-02T08:58:21.728784Z",
     "iopub.status.busy": "2021-09-02T08:58:21.728005Z",
     "iopub.status.idle": "2021-09-02T08:58:21.745644Z",
     "shell.execute_reply": "2021-09-02T08:58:21.746701Z",
     "shell.execute_reply.started": "2021-09-02T08:53:49.308069Z"
    },
    "papermill": {
     "duration": 0.097693,
     "end_time": "2021-09-02T08:58:21.746976",
     "exception": false,
     "start_time": "2021-09-02T08:58:21.649283",
     "status": "completed"
    },
    "tags": []
   },
   "outputs": [
    {
     "data": {
      "text/plain": [
       "0.5166181498320155"
      ]
     },
     "execution_count": 34,
     "metadata": {},
     "output_type": "execute_result"
    }
   ],
   "source": [
    "y_predict = grid.predict(X)\n",
    "r2_score(y, y_predict)"
   ]
  },
  {
   "cell_type": "markdown",
   "id": "7a1ba484",
   "metadata": {
    "papermill": {
     "duration": 0.071559,
     "end_time": "2021-09-02T08:58:21.944078",
     "exception": false,
     "start_time": "2021-09-02T08:58:21.872519",
     "status": "completed"
    },
    "tags": []
   },
   "source": []
  },
  {
   "cell_type": "markdown",
   "id": "70490e37",
   "metadata": {
    "papermill": {
     "duration": 0.071238,
     "end_time": "2021-09-02T08:58:22.087722",
     "exception": false,
     "start_time": "2021-09-02T08:58:22.016484",
     "status": "completed"
    },
    "tags": []
   },
   "source": [
    "**I convert the code below to markdown since Kaggle does not have enough space(20gb) to perform Gridsearch,r2_score is around 0.518**"
   ]
  },
  {
   "cell_type": "markdown",
   "id": "239dfd83",
   "metadata": {
    "papermill": {
     "duration": 0.072332,
     "end_time": "2021-09-02T08:58:22.232268",
     "exception": false,
     "start_time": "2021-09-02T08:58:22.159936",
     "status": "completed"
    },
    "tags": []
   },
   "source": [
    "## Lasso Regression \n"
   ]
  },
  {
   "cell_type": "markdown",
   "id": "36d5b3dc",
   "metadata": {
    "papermill": {
     "duration": 0.071277,
     "end_time": "2021-09-02T08:58:22.375394",
     "exception": false,
     "start_time": "2021-09-02T08:58:22.304117",
     "status": "completed"
    },
    "tags": []
   },
   "source": [
    "from sklearn.model_selection import GridSearchCV\n",
    "from sklearn.pipeline import Pipeline\n",
    "\n",
    "estimator = Pipeline([(\"scaler\", StandardScaler()),\n",
    "        (\"polynomial_features\", PolynomialFeatures()),\n",
    "        (\"lasso_regression\", Lasso())])\n",
    "\n",
    "hparams = {\n",
    "    'polynomial_features__degree': [1, 2, 3],\n",
    "    'lasso_regression__alpha': np.geomspace(0.6, 6, 30)\n",
    "}\n",
    "\n",
    "grid = GridSearchCV(estimator, hparams, cv=kf)"
   ]
  },
  {
   "cell_type": "markdown",
   "id": "07aac672",
   "metadata": {
    "papermill": {
     "duration": 0.072643,
     "end_time": "2021-09-02T08:58:22.519719",
     "exception": false,
     "start_time": "2021-09-02T08:58:22.447076",
     "status": "completed"
    },
    "tags": []
   },
   "source": [
    "grid.fit(X,y)\n",
    "print(grid.best_score_)\n",
    "print(grid.best_params_)"
   ]
  },
  {
   "cell_type": "markdown",
   "id": "2760a89f",
   "metadata": {
    "papermill": {
     "duration": 0.07104,
     "end_time": "2021-09-02T08:58:22.662910",
     "exception": false,
     "start_time": "2021-09-02T08:58:22.591870",
     "status": "completed"
    },
    "tags": []
   },
   "source": [
    "y_predict = grid.predict(X)\n",
    "r2_score(y, y_predict)"
   ]
  },
  {
   "cell_type": "markdown",
   "id": "61676757",
   "metadata": {
    "papermill": {
     "duration": 0.071164,
     "end_time": "2021-09-02T08:58:22.805274",
     "exception": false,
     "start_time": "2021-09-02T08:58:22.734110",
     "status": "completed"
    },
    "tags": []
   },
   "source": [
    "## ElasticNet Regression"
   ]
  },
  {
   "cell_type": "code",
   "execution_count": 35,
   "id": "e37c61de",
   "metadata": {
    "execution": {
     "iopub.execute_input": "2021-09-02T08:58:22.982495Z",
     "iopub.status.busy": "2021-09-02T08:58:22.981720Z",
     "iopub.status.idle": "2021-09-02T08:58:24.221399Z",
     "shell.execute_reply": "2021-09-02T08:58:24.222270Z",
     "shell.execute_reply.started": "2021-09-02T08:53:49.336765Z"
    },
    "papermill": {
     "duration": 1.343211,
     "end_time": "2021-09-02T08:58:24.222522",
     "exception": false,
     "start_time": "2021-09-02T08:58:22.879311",
     "status": "completed"
    },
    "tags": []
   },
   "outputs": [
    {
     "name": "stdout",
     "output_type": "stream",
     "text": [
      "0.005 0.9 0.5153984178784298\n"
     ]
    }
   ],
   "source": [
    "from sklearn.linear_model import ElasticNetCV\n",
    "alphas2 = np.array([0.005,0.05,0.1,1,5,20,50,80,100,120,140])\n",
    "l1_ratios = np.linspace(0.1,0.9,9)\n",
    "elasticNetCV = ElasticNetCV(alphas=alphas2, \n",
    "                            l1_ratio=l1_ratios,\n",
    "                            max_iter=1e4).fit(X_train, y_train)\n",
    "r2_score=r2_score(y_test, elasticNetCV.predict(X_test))\n",
    "\n",
    "print(elasticNetCV.alpha_, elasticNetCV.l1_ratio_, r2_score)"
   ]
  },
  {
   "cell_type": "code",
   "execution_count": null,
   "id": "35ba343b",
   "metadata": {
    "papermill": {
     "duration": 0.07152,
     "end_time": "2021-09-02T08:58:24.420635",
     "exception": false,
     "start_time": "2021-09-02T08:58:24.349115",
     "status": "completed"
    },
    "tags": []
   },
   "outputs": [],
   "source": []
  },
  {
   "cell_type": "code",
   "execution_count": null,
   "id": "91377591",
   "metadata": {
    "papermill": {
     "duration": 0.07241,
     "end_time": "2021-09-02T08:58:24.565136",
     "exception": false,
     "start_time": "2021-09-02T08:58:24.492726",
     "status": "completed"
    },
    "tags": []
   },
   "outputs": [],
   "source": []
  },
  {
   "cell_type": "code",
   "execution_count": null,
   "id": "9047306b",
   "metadata": {
    "papermill": {
     "duration": 0.071148,
     "end_time": "2021-09-02T08:58:24.709082",
     "exception": false,
     "start_time": "2021-09-02T08:58:24.637934",
     "status": "completed"
    },
    "tags": []
   },
   "outputs": [],
   "source": []
  },
  {
   "cell_type": "code",
   "execution_count": null,
   "id": "46f85f70",
   "metadata": {
    "papermill": {
     "duration": 0.071484,
     "end_time": "2021-09-02T08:58:24.852284",
     "exception": false,
     "start_time": "2021-09-02T08:58:24.780800",
     "status": "completed"
    },
    "tags": []
   },
   "outputs": [],
   "source": []
  },
  {
   "cell_type": "code",
   "execution_count": null,
   "id": "4b8e2e5d",
   "metadata": {
    "papermill": {
     "duration": 0.073745,
     "end_time": "2021-09-02T08:58:24.998609",
     "exception": false,
     "start_time": "2021-09-02T08:58:24.924864",
     "status": "completed"
    },
    "tags": []
   },
   "outputs": [],
   "source": []
  }
 ],
 "metadata": {
  "kernelspec": {
   "display_name": "Python 3",
   "language": "python",
   "name": "python3"
  },
  "language_info": {
   "codemirror_mode": {
    "name": "ipython",
    "version": 3
   },
   "file_extension": ".py",
   "mimetype": "text/x-python",
   "name": "python",
   "nbconvert_exporter": "python",
   "pygments_lexer": "ipython3",
   "version": "3.7.10"
  },
  "papermill": {
   "default_parameters": {},
   "duration": 90.001519,
   "end_time": "2021-09-02T08:58:26.592329",
   "environment_variables": {},
   "exception": null,
   "input_path": "__notebook__.ipynb",
   "output_path": "__notebook__.ipynb",
   "parameters": {},
   "start_time": "2021-09-02T08:56:56.590810",
   "version": "2.3.3"
  }
 },
 "nbformat": 4,
 "nbformat_minor": 5
}
